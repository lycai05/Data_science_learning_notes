{
 "cells": [
  {
   "cell_type": "code",
   "execution_count": 2,
   "metadata": {},
   "outputs": [
    {
     "name": "stdout",
     "output_type": "stream",
     "text": [
      "['Age', 'name=Ben', 'name=Jim']\n"
     ]
    },
    {
     "data": {
      "text/plain": [
       "array([[18.,  0.,  1.],\n",
       "       [28.,  1.,  0.]])"
      ]
     },
     "execution_count": 2,
     "metadata": {},
     "output_type": "execute_result"
    }
   ],
   "source": [
    "############################# \n",
    "## 特征抽取API: sklearn.feature_extraction\n",
    "############################# \n",
    "\n",
    "# 对字典数据进行特征提取sklearn.feature_extraction.DictVectorizer\n",
    "from sklearn.feature_extraction import DictVectorizer\n",
    "\n",
    "# DictVectorizer.fit_transform(X)       \n",
    "# X:字典或者包含字典的迭代器\n",
    "# 返回值：返回sparse矩阵\n",
    "# DictVectorizer.inverse_transform(X)\n",
    "# X:array数组或者sparse矩阵\n",
    "# 返回值:转换之前数据格式\n",
    "# DictVectorizer.get_feature_names()\n",
    "# 返回类别名称\n",
    "# DictVectorizer.transform(X)\n",
    "# 按照原先的标准转换\n",
    "\n",
    "def dictVec(data):\n",
    "    dict = DictVectorizer(sparse = False)\n",
    "    data = dict.fit_transform(data)\n",
    "    print(dict.get_feature_names())\n",
    "    return data\n",
    "\n",
    "dictVec([{'name': \"Jim\", 'Age': 18}, {'name': \"Ben\", 'Age': 28}])"
   ]
  },
  {
   "cell_type": "code",
   "execution_count": 6,
   "metadata": {},
   "outputs": [
    {
     "name": "stdout",
     "output_type": "stream",
     "text": [
      "['are', 'guys', 'hey', 'how', 'student', 'who', 'you']\n",
      "[[1 0 1 0 1 1 1]\n",
      " [1 1 0 1 0 0 1]]\n"
     ]
    },
    {
     "data": {
      "text/plain": [
       "<2x7 sparse matrix of type '<class 'numpy.int64'>'\n",
       "\twith 9 stored elements in Compressed Sparse Row format>"
      ]
     },
     "execution_count": 6,
     "metadata": {},
     "output_type": "execute_result"
    }
   ],
   "source": [
    "# 对文本特征抽取sklearn.feature_extraction.CountVectorizer\n",
    "from sklearn.feature_extraction.text import CountVectorizer \n",
    "\n",
    "# CountVectorizer.fit_transform(X,y)       \n",
    "# X:文本或者包含文本字符串的可迭代对象\n",
    "# 返回值：返回sparse矩阵\n",
    "# CountVectorizer.inverse_transform(X)\n",
    "# X:array数组或者sparse矩阵\n",
    "# 返回值:转换之前数据格式\n",
    "# CountVectorizer.get_feature_names()\n",
    "# 返回值:单词列表\n",
    "\n",
    "def textVec(data):\n",
    "    text = CountVectorizer()\n",
    "    data = text.fit_transform(data)\n",
    "    \n",
    "    # 返回单词列表\n",
    "    print(text.get_feature_names())\n",
    "    \n",
    "    # toarary()将sparse矩阵转换成array\n",
    "    print(data.toarray())\n",
    "    \n",
    "    return data\n",
    "\n",
    "textVec([\"I'm a student. Hey who are you ?\", \"how are you guys\"])"
   ]
  },
  {
   "cell_type": "code",
   "execution_count": null,
   "metadata": {},
   "outputs": [],
   "source": [
    "############################# \n",
    "## 数据的特征处理\n",
    "############################# \n",
    "\n",
    "#### 目的：通过特定的统计方法将数据转换成算法要求的数据\n",
    "### 方法：\n",
    "## 1.数值型数据\n",
    "# 1). 归一化\n",
    "# 2). 标准化\n",
    "## 2. 类别型数据：one-hot编码\n",
    "## 3. 时间型数据：时间的切分"
   ]
  },
  {
   "cell_type": "code",
   "execution_count": null,
   "metadata": {},
   "outputs": [],
   "source": [
    "############################# \n",
    "## 特征处理API: sklearn.preprocessing\n",
    "############################# \n",
    "\n",
    "### 归一化：将数据映射到某个数值区间。默认是（0，1）\n",
    "# 归一化API：sklearn.preprocessing.MinMaxScaler\n",
    "# MinMaxScalar(feature_range=(0,1)…)\n",
    "#  MinMaxScalar.fit_transform(X)       \n",
    "#  X:numpy array格式的数据[n_samples,n_features]\n",
    "#  返回值：转换后的形状相同的array\n",
    "\n",
    "### 标准化：把数据变换到均值为0，方差为1的范围内\n",
    "# 特征化API:  scikit-learn.preprocessing.StandardScaler\n",
    "# StandardScaler.fit_transform(X,y)       \n",
    "#  X:numpy array格式的数据[n_samples,n_features]\n",
    "#  返回值：转换后的形状相同的array\n",
    "\n",
    "# StandardScaler.mean_\n",
    "# 原始数据中每列特征的平均值\n",
    "\n",
    "# StandardScaler.std_\n",
    "# 原始数据每列特征的方差\n"
   ]
  },
  {
   "cell_type": "code",
   "execution_count": null,
   "metadata": {},
   "outputs": [],
   "source": [
    "############################# 特征选择：从提取到的所有特征中选择部分特征作为训练集特征。\n",
    "### 有三种方式：\n",
    "### 1. Filter\n",
    "### 2. Embedded\n",
    "### 3. Wrapper"
   ]
  },
  {
   "cell_type": "code",
   "execution_count": 6,
   "metadata": {
    "slideshow": {
     "slide_type": "-"
    }
   },
   "outputs": [
    {
     "data": {
      "text/plain": [
       "array([[2, 0],\n",
       "       [1, 4],\n",
       "       [1, 1]])"
      ]
     },
     "execution_count": 6,
     "metadata": {},
     "output_type": "execute_result"
    }
   ],
   "source": [
    "# Filter：删除方差低的特征\n",
    "# VarianceThreshold\n",
    "from sklearn.feature_selection import VarianceThreshold\n",
    "def filterVariance(data):\n",
    "    # 指定方差的阈值，低于该阈值的方差的特征会被删除\n",
    "    var = VarianceThreshold(threshold = 0)\n",
    "    data = var.fit_transform(data)\n",
    "    \n",
    "    return data\n",
    "\n",
    "\n",
    "filterVariance([[0, 2, 0, 3], [0, 1, 4, 3], [0, 1, 1, 3]])\n"
   ]
  },
  {
   "cell_type": "code",
   "execution_count": 15,
   "metadata": {},
   "outputs": [
    {
     "data": {
      "text/plain": [
       "array([[-1.76504522],\n",
       "       [ 2.35339362],\n",
       "       [-0.58834841]])"
      ]
     },
     "execution_count": 15,
     "metadata": {},
     "output_type": "execute_result"
    }
   ],
   "source": [
    "############################# \n",
    "# 和特征选择具有相似功能的方法是降维，主成分分析（PCA）是一种常用的降维方法\n",
    "# PCA可以减少回归或者聚类分析中特征的数量\n",
    "from sklearn.decomposition import PCA\n",
    "def pca(data):\n",
    "    pca = PCA(n_components = 0.9)\n",
    "    data = pca.fit_transform(data)\n",
    "    \n",
    "    return data\n",
    "\n",
    "\n",
    "pca([[0, 2, 0, 3], [0, 1, 4, 3], [0, 1, 1, 3]])"
   ]
  },
  {
   "cell_type": "code",
   "execution_count": null,
   "metadata": {},
   "outputs": [],
   "source": [
    "# PCA和特征选择的比较\n",
    "# 特征数量较多使用主成分分析"
   ]
  },
  {
   "cell_type": "code",
   "execution_count": null,
   "metadata": {},
   "outputs": [],
   "source": [
    "## 机器学习算法分类\n",
    "# 监督学习：特征值+目标值。分类，回归\n",
    "# 非监督学习：特征值。聚类"
   ]
  }
 ],
 "metadata": {
  "kernelspec": {
   "display_name": "Python 3",
   "language": "python",
   "name": "python3"
  },
  "language_info": {
   "codemirror_mode": {
    "name": "ipython",
    "version": 3
   },
   "file_extension": ".py",
   "mimetype": "text/x-python",
   "name": "python",
   "nbconvert_exporter": "python",
   "pygments_lexer": "ipython3",
   "version": "3.6.2"
  }
 },
 "nbformat": 4,
 "nbformat_minor": 2
}
