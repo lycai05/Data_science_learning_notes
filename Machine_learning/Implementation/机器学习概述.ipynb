{
 "cells": [
  {
   "cell_type": "code",
   "execution_count": 1,
   "metadata": {},
   "outputs": [
    {
     "name": "stdout",
     "output_type": "stream",
     "text": [
      "multithread.ipynb           tcp_server.py.ipynb\n",
      "multithreadingpy            udp_socket.py\n",
      "python_re.ipynb             数据的特征工程.ipynb\n",
      "tcp_client.py.ipynb         机器学习概述.ipynb\n"
     ]
    }
   ],
   "source": [
    "# 数据集划分API\n",
    "# sklearn.model_selection.train_test_split\n",
    "!ls"
   ]
  },
  {
   "cell_type": "code",
   "execution_count": null,
   "metadata": {},
   "outputs": [],
   "source": []
  }
 ],
 "metadata": {
  "kernelspec": {
   "display_name": "Python 3",
   "language": "python",
   "name": "python3"
  },
  "language_info": {
   "codemirror_mode": {
    "name": "ipython",
    "version": 3
   },
   "file_extension": ".py",
   "mimetype": "text/x-python",
   "name": "python",
   "nbconvert_exporter": "python",
   "pygments_lexer": "ipython3",
   "version": "3.6.7"
  }
 },
 "nbformat": 4,
 "nbformat_minor": 2
}
