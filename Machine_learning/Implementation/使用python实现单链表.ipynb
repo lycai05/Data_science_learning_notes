{
 "cells": [
  {
   "cell_type": "code",
   "execution_count": 1,
   "metadata": {},
   "outputs": [],
   "source": [
    "class Node(object):\n",
    "    def __init__(self, elem):\n",
    "        self.elem = elem\n",
    "        self.next = None"
   ]
  },
  {
   "cell_type": "code",
   "execution_count": 2,
   "metadata": {},
   "outputs": [
    {
     "name": "stdout",
     "output_type": "stream",
     "text": [
      "5\n"
     ]
    }
   ],
   "source": [
    "node1 = Node(5)\n",
    "print(node1.elem)"
   ]
  },
  {
   "cell_type": "code",
   "execution_count": 3,
   "metadata": {},
   "outputs": [],
   "source": [
    "class SingleLinkList(object):\n",
    "    \n",
    "    def __init__(self, node = None):\n",
    "        self._head = node\n",
    "        \n",
    "    # 判断是否为空\n",
    "    def is_empty(self):\n",
    "        return self.length() == 0\n",
    "    \n",
    "    # 计算长度\n",
    "    def length(self):\n",
    "        count = 0\n",
    "        cur = self._head\n",
    "        while cur != None:\n",
    "            cur = cur.next\n",
    "            count += 1\n",
    "        return count\n",
    "        \n",
    "    # 遍历\n",
    "    def travel(self):\n",
    "        cur = self._head\n",
    "        print(\"Start travel around the SLL\")\n",
    "        while cur != None:\n",
    "            print(\"Current element is: \", cur.elem)\n",
    "            cur = cur.next\n",
    "        #print(\"Current element is: \", cur.elem)\n",
    "        print(\"End of travel\")\n",
    "    \n",
    "    # 在头部添加元素\n",
    "    def add(self, node):\n",
    "        node.next = self._head\n",
    "        self._head = node\n",
    "        self.travel()\n",
    "        \n",
    "    \n",
    "    # 删除元素，根据元素的内容，删除遇到的第一个\n",
    "    def delete(self, node):\n",
    "        cur = self._head\n",
    "        pre = None\n",
    "        while cur != None:\n",
    "            if cur.elem == node:\n",
    "                if cur == self._head:\n",
    "                    sele._head = cur.next\n",
    "                else:\n",
    "                    pre.next = cur.next\n",
    "                break\n",
    "            else:\n",
    "                pre = cur\n",
    "                cur = cur.next\n",
    "               \n",
    "    \n",
    "    def append(self, elem):\n",
    "        node = Node(elem)\n",
    "        cur = self._head\n",
    "        if self.is_empty():\n",
    "            self._head = node\n",
    "            print('empty')\n",
    "        else:\n",
    "            while cur.next != None:\n",
    "                cur = cur.next\n",
    "            cur.next = node\n",
    "        \n",
    "        \n",
    "    def insert(self, node):\n",
    "        pass\n",
    "    \n",
    "    def search(self, node):\n",
    "        cur = self._head\n",
    "        while cur != None:\n",
    "            if cur.elem == node:\n",
    "                return True\n",
    "            else:\n",
    "                cur = cur.next\n",
    "    \n",
    "    "
   ]
  },
  {
   "cell_type": "code",
   "execution_count": 4,
   "metadata": {},
   "outputs": [
    {
     "name": "stdout",
     "output_type": "stream",
     "text": [
      "3\n"
     ]
    }
   ],
   "source": [
    "n1 = Node(4)\n",
    "n2 = Node(5)\n",
    "n3 = Node(6)\n",
    "n1.next = n2\n",
    "n2.next = n3\n",
    "sll = SingleLinkList(node = n1)\n",
    "print(sll.length())"
   ]
  },
  {
   "cell_type": "code",
   "execution_count": 5,
   "metadata": {},
   "outputs": [
    {
     "name": "stdout",
     "output_type": "stream",
     "text": [
      "False\n"
     ]
    }
   ],
   "source": [
    "print(sll.is_empty())"
   ]
  },
  {
   "cell_type": "code",
   "execution_count": 6,
   "metadata": {},
   "outputs": [
    {
     "name": "stdout",
     "output_type": "stream",
     "text": [
      "Start travel around the SLL\n",
      "Current element is:  4\n",
      "Current element is:  5\n",
      "Current element is:  6\n",
      "End of travel\n",
      "None\n"
     ]
    }
   ],
   "source": [
    "print(sll.travel())"
   ]
  },
  {
   "cell_type": "code",
   "execution_count": 7,
   "metadata": {},
   "outputs": [
    {
     "name": "stdout",
     "output_type": "stream",
     "text": [
      "Start travel around the SLL\n",
      "Current element is:  8\n",
      "Current element is:  4\n",
      "Current element is:  5\n",
      "Current element is:  6\n",
      "End of travel\n",
      "Start travel around the SLL\n",
      "Current element is:  9\n",
      "Current element is:  8\n",
      "Current element is:  4\n",
      "Current element is:  5\n",
      "Current element is:  6\n",
      "End of travel\n"
     ]
    },
    {
     "data": {
      "text/plain": [
       "5"
      ]
     },
     "execution_count": 7,
     "metadata": {},
     "output_type": "execute_result"
    }
   ],
   "source": [
    "sll.add(Node(8))\n",
    "sll.length()\n",
    "sll.add(Node(9))\n",
    "sll.length()"
   ]
  },
  {
   "cell_type": "code",
   "execution_count": 8,
   "metadata": {},
   "outputs": [
    {
     "name": "stdout",
     "output_type": "stream",
     "text": [
      "Start travel around the SLL\n",
      "Current element is:  9\n",
      "Current element is:  8\n",
      "Current element is:  4\n",
      "Current element is:  5\n",
      "Current element is:  6\n",
      "Current element is:  10\n",
      "End of travel\n"
     ]
    }
   ],
   "source": [
    "sll.append(10)\n",
    "sll.travel()"
   ]
  },
  {
   "cell_type": "code",
   "execution_count": 9,
   "metadata": {},
   "outputs": [
    {
     "name": "stdout",
     "output_type": "stream",
     "text": [
      "True\n",
      "None\n",
      "Start travel around the SLL\n",
      "Current element is:  9\n",
      "Current element is:  8\n",
      "Current element is:  4\n",
      "Current element is:  5\n",
      "Current element is:  6\n",
      "Current element is:  10\n",
      "End of travel\n"
     ]
    }
   ],
   "source": [
    "print(sll.search(6))\n",
    "print(sll.search(11))\n",
    "sll.travel()"
   ]
  },
  {
   "cell_type": "code",
   "execution_count": 11,
   "metadata": {},
   "outputs": [
    {
     "name": "stdout",
     "output_type": "stream",
     "text": [
      "Start travel around the SLL\n",
      "Current element is:  9\n",
      "Current element is:  8\n",
      "Current element is:  6\n",
      "Current element is:  10\n",
      "End of travel\n"
     ]
    }
   ],
   "source": [
    "sll.delete(4)\n",
    "sll.travel()"
   ]
  },
  {
   "cell_type": "code",
   "execution_count": null,
   "metadata": {},
   "outputs": [],
   "source": []
  }
 ],
 "metadata": {
  "kernelspec": {
   "display_name": "Python 3",
   "language": "python",
   "name": "python3"
  },
  "language_info": {
   "codemirror_mode": {
    "name": "ipython",
    "version": 3
   },
   "file_extension": ".py",
   "mimetype": "text/x-python",
   "name": "python",
   "nbconvert_exporter": "python",
   "pygments_lexer": "ipython3",
   "version": "3.6.2"
  }
 },
 "nbformat": 4,
 "nbformat_minor": 2
}
