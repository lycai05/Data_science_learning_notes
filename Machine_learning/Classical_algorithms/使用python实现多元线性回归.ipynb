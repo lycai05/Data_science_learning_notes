{
 "cells": [
  {
   "cell_type": "markdown",
   "metadata": {},
   "source": [
    "#### 问题的提出\n",
    "通常一个样本会有多个特征，这时我们可以使用多元线性回归"
   ]
  },
  {
   "cell_type": "markdown",
   "metadata": {},
   "source": [
    "#### 多元线性回归的矩阵表示\n",
    "$$\n",
    "\\hat{y} = X_b\\cdot\\theta\n",
    "$$\n",
    "<br>\n",
    "$$\n",
    "其中X_b = \\begin{pmatrix} \n",
    "1 & X_1^{(1)} & X_2^{(1)} & \\dots & X_n^{(1)} \\\\\n",
    "1 & X_1^{(2)} & X_2^{(2)} & \\dots & X_n^{(1)} \\\\\n",
    "... & ... & ... & ... & ...\\\\\n",
    "\\end{pmatrix} \n",
    "$$\n",
    "<br>\n",
    "$$\n",
    "\\theta = \\begin{pmatrix}\n",
    "\\theta_0 \\\\\n",
    "\\theta_1 \\\\\n",
    "... \\\\\n",
    "\\theta_n\n",
    "\\end{pmatrix}\n",
    "$$\n",
    "目标仍然是使${\\sum\\limits_{i=1}^n(y_i - \\hat{y}_i)^2}$尽可能小，也就是使$(y - X_b\\cdot\\theta)^T(y - X_b\\cdot\\theta)$"
   ]
  },
  {
   "cell_type": "markdown",
   "metadata": {},
   "source": [
    "#### 通过最小二乘法得到的多元线性回归的正规方程解（Normal Equation）\n",
    "$$\\theta = (X_b^T \\cdot X_b)^{-1}X_b^T \\cdot y$$\n",
    "其中$\\theta_0是截距$(intercept),\n",
    "$\\theta_1 \\dots \\theta_n$是系数(coefficient)"
   ]
  },
  {
   "cell_type": "markdown",
   "metadata": {},
   "source": [
    "#### 正规方程解的时间复杂度高\n",
    "O(n^3)\n",
    "优化后O(n^2.4)"
   ]
  },
  {
   "cell_type": "code",
   "execution_count": 15,
   "metadata": {},
   "outputs": [],
   "source": [
    "#### 实现一个多元线性回归\n",
    "class LinearRegression(object):\n",
    "    def __init__(self):\n",
    "        self.coef = None\n",
    "        self.intercept = None\n",
    "        self._theta = None\n",
    "        \n",
    "    # 此时x_test是一个matrix，每行代表一个样本，每列代表一个特征值\n",
    "    def fit(self, x_train, y_train):\n",
    "        x_b = np.hstack([np.ones((len(x_train), 1)), x_train])\n",
    "        theta = np.linalg.inv(x_b.T.dot(x_b)).dot(x_b.T).dot(y_train)\n",
    "        self.coef = theta[0]\n",
    "        self.intercept = theta[1:]\n",
    "        self._theta = theta\n",
    "        return self\n",
    "\n",
    "    def predict(self, x_predict):\n",
    "        x_b = np.hstack([np.ones((len(x_predict), 1)), x_predict])\n",
    "        y_hat = x_b.dot(self._theta)\n",
    "        return y_hat\n",
    "\n",
    "    def score(self, y_test, y_hat):\n",
    "        r_squared = 1 - (np.sum((y_test - y_hat)**2)) / np.sum(((y_test - np.mean(y_test))**2))\n",
    "        return r_squared"
   ]
  },
  {
   "cell_type": "code",
   "execution_count": 16,
   "metadata": {},
   "outputs": [
    {
     "name": "stdout",
     "output_type": "stream",
     "text": [
      "['age', 'sex', 'bmi', 'bp', 's1', 's2', 's3', 's4', 's5', 's6']\n",
      "153.37863243927978\n",
      "[ -42.88663576 -238.47326425  535.12761562  332.71480091 -403.21337006\n",
      "  101.0201579   -62.06773609  158.1621055   654.5748687    68.83769893]\n"
     ]
    }
   ],
   "source": [
    "import numpy as np\n",
    "from sklearn.datasets import load_diabetes\n",
    "from sklearn.model_selection import train_test_split\n",
    "diabetes = load_diabetes() \n",
    "print(diabetes.feature_names)\n",
    "x_train, x_test, y_train, y_test = train_test_split(diabetes.data, diabetes.target, test_size = 0.25)\n",
    "lreg1 = LinearRegression()\n",
    "lreg1.fit(x_train, y_train)\n",
    "print(lreg1.coef)\n",
    "print(lreg1.intercept)"
   ]
  },
  {
   "cell_type": "code",
   "execution_count": 17,
   "metadata": {},
   "outputs": [
    {
     "name": "stdout",
     "output_type": "stream",
     "text": [
      "[ 86.88238758 167.6106795  155.45672323 184.86596327 212.64072984\n",
      " 189.15128679  75.84946832  74.54306265 215.5875488  204.14928884\n",
      " 100.83366553 115.29992265 217.88928886 214.40195645 160.15363927\n",
      " 180.40546156 259.4548514  268.59561159 110.31646324 150.82507154\n",
      " 132.09018769  74.03621755 158.12279477 112.33430171 200.11333622\n",
      " 133.63310459 245.2204352   81.30336712 129.36587662  80.79751765\n",
      " 108.37121903  70.08978848 137.15405925 305.62463521  82.93027129\n",
      "  84.45917548 195.52720445 189.72314944  75.4555974  169.15929234\n",
      "  83.4016636  126.90928864 123.55674986 130.05021835 160.26077918\n",
      " 132.75104073 198.34764372 126.52254562 103.78874585 140.43478971\n",
      " 210.21495789 105.14994536 140.78023377 271.06796377 170.45254201\n",
      " 124.01579401 151.99751627 185.09520448  91.31293901 131.80284958\n",
      " 143.34286805 116.57341257 119.39799468 170.41380876 195.03500819\n",
      " 195.19952277 222.72151049 108.28681449 192.79177924  62.73137431\n",
      " 222.12416924  78.29779784  49.26468561 272.85523655 144.96377712\n",
      " 158.98337172  91.73706822  56.34046278 113.52503454 124.04847432\n",
      " 147.66874285 303.56694239 179.22908998 148.2367166  200.06657697\n",
      " 197.67695826 167.31828832 179.71068132 238.42561739 167.92153168\n",
      " 121.03892637 284.60939887 164.4064277   81.08838247 260.20949763\n",
      " 236.55580257 175.15893958  76.26850121 127.45085242 172.54308259\n",
      " 261.85435681 144.66814674 117.41709321 137.04308305 166.2563369\n",
      " 156.20379066 243.51478031  37.4846167  202.78380652 170.73638095\n",
      " 210.27000387]\n"
     ]
    }
   ],
   "source": [
    "y_hat = lreg1.predict(x_test)\n",
    "print(y_hat)"
   ]
  },
  {
   "cell_type": "code",
   "execution_count": 18,
   "metadata": {},
   "outputs": [
    {
     "data": {
      "text/plain": [
       "0.47243325274544"
      ]
     },
     "execution_count": 18,
     "metadata": {},
     "output_type": "execute_result"
    }
   ],
   "source": [
    "lreg1.score(y_test, y_hat)"
   ]
  },
  {
   "cell_type": "code",
   "execution_count": null,
   "metadata": {},
   "outputs": [],
   "source": []
  }
 ],
 "metadata": {
  "kernelspec": {
   "display_name": "Python 3",
   "language": "python",
   "name": "python3"
  },
  "language_info": {
   "codemirror_mode": {
    "name": "ipython",
    "version": 3
   },
   "file_extension": ".py",
   "mimetype": "text/x-python",
   "name": "python",
   "nbconvert_exporter": "python",
   "pygments_lexer": "ipython3",
   "version": "3.6.7"
  }
 },
 "nbformat": 4,
 "nbformat_minor": 2
}
