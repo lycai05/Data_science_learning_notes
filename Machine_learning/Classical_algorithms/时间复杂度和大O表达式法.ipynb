{
 "cells": [
  {
   "cell_type": "markdown",
   "metadata": {},
   "source": [
    "#### 如何客观的评价一个算法的优劣？\n",
    "1. 算法执行的时间：不能作为判断两种算法优劣的方法，因为这跟机器硬件和操作系统等多种因素相关\n",
    "2. 时间复杂度：计算机执行计算的每个基本操作的时间是一个固定的时间单位，通过比较两种算法的所需时间单位的大小（也就是时间复杂度）来比较它们的优劣。数量级是更重要的部分，常量可以忽略不计"
   ]
  },
  {
   "cell_type": "markdown",
   "metadata": {},
   "source": [
    "#### 时间复杂度的分类\n",
    "- 最优时间复杂度：算法完成最少需要多少基本操作。无参考价值\n",
    "- 最坏时间复杂度：算法完成最多需要多少基本操作。提供了一种保证，表明算法在此种程度的基本操作中一定能完成工作\n",
    "- 平均时间复杂度：算法完成平均需要多少基本操作。"
   ]
  },
  {
   "cell_type": "markdown",
   "metadata": {},
   "source": [
    "#### 常见操作的时间复杂度\n",
    "- 基本操作，时间复杂度为O(1)\n",
    "- 顺序结构：时间复杂度按加法来计算\n",
    "- 循环：按照乘法计算\n",
    "- 分支：取分支（if）中的最大值\n",
    "- 判断算法的时间复杂度时，往往只需关注操作的最高次项，其他次要项和常数项可以忽略\n",
    "- 我们一般所指的时间复杂度都是最坏时间复杂度"
   ]
  },
  {
   "cell_type": "markdown",
   "metadata": {},
   "source": [
    "#### 使用Big O来表示时间复杂度\n",
    "\n"
   ]
  },
  {
   "cell_type": "code",
   "execution_count": null,
   "metadata": {},
   "outputs": [],
   "source": []
  },
  {
   "cell_type": "markdown",
   "metadata": {},
   "source": [
    "#### 常见的时间复杂度\n",
    "执行次数函数举例 | 阶\n",
    "12 | O(1) | 常数阶 \n",
    "2n+3 | O(n) | 线性阶\n",
    "3n^2 + 2n + 1 | O(n^2) | 平方阶\n",
    "5log2(n) + 20 | O(log(n)) | 对数阶\n",
    "2n + 2nlog2(n) | O(log(n)) | nlog(n)\n",
    "6n^3 + 3n^2 + n | O(^3) | 立方阶\n",
    "2^n | O(2^n) | 指数阶\n",
    "\n",
    "##### 常见各种阶数时间复杂度的大小\n",
    "O(1) < O(logn) < O(n) < O(nlog(n)) < O(n^2) < O(n^3) < O(2^n) <O(n!) < O(n^n)"
   ]
  },
  {
   "cell_type": "markdown",
   "metadata": {},
   "source": [
    "#### python里列表操作的时间复杂度\n",
    "Operation     | Example      | Class         | Notes\n",
    "--------------+--------------+---------------+-------------------------------\n",
    "Index         | l[i]         | O(1)\t     |\n",
    "Store         | l[i] = 0     | O(1)\t     |\n",
    "Length        | len(l)       | O(1)\t     |\n",
    "Append        | l.append(5)  | O(1)\t     | mostly: ICS-46 covers details\n",
    "Pop\t      | l.pop()      | O(1)\t     | same as l.pop(-1), popping at end\n",
    "Clear         | l.clear()    | O(1)\t     | similar to l = []\n",
    "\n",
    "Slice         | l[a:b]       | O(b-a)\t     | l[1:5]:O(l)/l[:]:O(len(l)-0)=O(N)\n",
    "Extend        | l.extend(...)| O(len(...))   | depends only on len of extension\n",
    "Construction  | list(...)    | O(len(...))   | depends on length of ... iterable\n",
    "\n",
    "check ==, !=  | l1 == l2     | O(N)          |\n",
    "Insert        | l[a:b] = ... | O(N)\t     | \n",
    "Delete        | del l[i]     | O(N)\t     | depends on i; O(N) in worst case\n",
    "Containment   | x in/not in l| O(N)\t     | linearly searches list \n",
    "Copy          | l.copy()     | O(N)\t     | Same as l[:] which is O(N)\n",
    "Remove        | l.remove(...)| O(N)\t     | \n",
    "Pop\t      | l.pop(i)     | O(N)\t     | O(N-i): l.pop(0):O(N) (see above)\n",
    "Extreme value | min(l)/max(l)| O(N)\t     | linearly searches list for value\n",
    "Reverse\t      | l.reverse()  | O(N)\t     |\n",
    "Iteration     | for v in l:  | O(N)          | Worst: no return/break in loop\n",
    "\n",
    "Sort          | l.sort()     | O(N Log N)    | key/reverse mostly doesn't change\n",
    "Multiply      | k*l          | O(k N)        | 5*l is O(N): len(l)*l is O(N**2)\n"
   ]
  },
  {
   "cell_type": "markdown",
   "metadata": {},
   "source": [
    "#### python里字典操作的时间复杂度\n",
    "Operation     | Example      | Class         | Notes\n",
    "--------------+--------------+---------------+-------------------------------\n",
    "Index         | d[k]         | O(1)\t     |\n",
    "Store         | d[k] = v     | O(1)\t     |\n",
    "Length        | len(d)       | O(1)\t     |\n",
    "Delete        | del d[k]     | O(1)\t     |\n",
    "get/setdefault| d.get(k)     | O(1)\t     |\n",
    "Pop           | d.pop(k)     | O(1)\t     | \n",
    "Pop item      | d.popitem()  | O(1)\t     | popped item \"randomly\" selected\n",
    "Clear         | d.clear()    | O(1)\t     | similar to s = {} or = dict()\n",
    "View          | d.keys()     | O(1)\t     | same for d.values()\n",
    "\n",
    "Construction  | dict(...)    | O(len(...))   | depends # (key,value) 2-tuples\n",
    "\n",
    "Iteration     | for k in d:  | O(N)          | all forms: keys, values, items\n",
    "\t      \t      \t       \t\t     | Worst: no return/break in loop\n"
   ]
  }
 ],
 "metadata": {
  "kernelspec": {
   "display_name": "Python 3",
   "language": "python",
   "name": "python3"
  },
  "language_info": {
   "codemirror_mode": {
    "name": "ipython",
    "version": 3
   },
   "file_extension": ".py",
   "mimetype": "text/x-python",
   "name": "python",
   "nbconvert_exporter": "python",
   "pygments_lexer": "ipython3",
   "version": "3.6.7"
  }
 },
 "nbformat": 4,
 "nbformat_minor": 2
}
