{
 "cells": [
  {
   "cell_type": "markdown",
   "metadata": {},
   "source": [
    "在线性回归中，损失函数中的theta是一个向量，相应的梯度值也是损失函数对theta中每一个元素的偏导数"
   ]
  },
  {
   "cell_type": "markdown",
   "metadata": {},
   "source": [
    "假设一共有n个样本，m个特征，则损失函数为：\n",
    "$${\\sum\\limits_{i=1}^n(y_i - \\hat{y}_i)^2} = {\\sum\\limits_{i=1}^n(y_i - \\theta_0 - \\theta_1 x_1^{(i)} - \\theta_2 x_2^{(i)} - ... - \\theta_m * x_i^{(i)})^2}$$"
   ]
  },
  {
   "cell_type": "markdown",
   "metadata": {},
   "source": [
    "损失函数对theta的倒数，为：\n",
    "$$\n",
    "\\begin{pmatrix} \n",
    "\\sum_{i=1}^n2(y_i - x_b^{(i)}\\theta)(-1) \\\\\n",
    "\\sum_{i=1}^n2(y_i - x_b^{(i)}\\theta)(-x_1^{(i)}) \\\\\n",
    "... \\\\\n",
    "\\sum_{i=1}^n2(y_i - x_b^{(i)}\\theta)(-x_m^{(i)})\\\\\n",
    "\\end{pmatrix}\n",
    "$$\n",
    "进一步推导后可得\n",
    "<br>\n",
    "$$\n",
    "2\\begin{pmatrix} \n",
    "\\sum_{i=1}^n2(x_b^{(i)}\\theta - y_i) \\\\\n",
    "\\sum_{i=1}^n2(x_b^{(i)}\\theta - y_i)(x_1^{(i)}) \\\\\n",
    "... \\\\\n",
    "\\sum_{i=1}^n2(x_b^{(i)}\\theta - y_i)(x_m^{(i)})\\\\\n",
    "\\end{pmatrix}\n",
    "$$"
   ]
  },
  {
   "cell_type": "markdown",
   "metadata": {},
   "source": [
    "这个矩阵的数字大小随着样本数量的增加而增大，为了消除这种影响，我们将它除以样本数n，得到：\n",
    "$$\n",
    "2/n\\begin{pmatrix} \n",
    "\\sum_{i=1}^n(x_b^{(i)}\\theta - y_i) \\\\\n",
    "\\sum_{i=1}^n(x_b^{(i)}\\theta - y_i)(x_1^{(i)}) \\\\\n",
    "... \\\\\n",
    "\\sum_{i=1}^n(x_b^{(i)}\\theta - y_i)(x_m^{(i)})\\\\\n",
    "\\end{pmatrix}\n",
    "$$"
   ]
  },
  {
   "cell_type": "markdown",
   "metadata": {},
   "source": [
    "以上公式其实是以均方误差 MSE（Mean Squared Error）为损失函数时对$\\theta$的微分\n",
    "$$MSE = \\dfrac{\\sum\\limits_{i=1}^n(y_i - \\hat{y}_i)^2}{n}$$"
   ]
  },
  {
   "cell_type": "code",
   "execution_count": 52,
   "metadata": {},
   "outputs": [],
   "source": [
    "# 实现梯度下降算法\n",
    "# 以下函数的参数theta是一个向量，X_b是一个矩阵，y是一个向量\n",
    "def loss_function(theta, X_b, y):\n",
    "    return np.sum(y - X_b.dot(theta)**2)/len(X_b)\n",
    "\n",
    "\n",
    "def calc_graident(theta, X_b, y):\n",
    "    grad = np.empty(len(theta))\n",
    "    grad[0] = np.sum(X_b.dot(theta) - y)\n",
    "    for i in range(1, len(theta)):\n",
    "        grad[i] = (X_b.dot(theta) - y).dot(X_b[:, i])\n",
    "    return grad * 2  / len(X_b)\n",
    "\n",
    "\n",
    "def gradient_descent(theta, X_b, y, learning_rate):\n",
    "    theta = theta\n",
    "    learning_rate = learning_rate\n",
    "    while True:\n",
    "        # 微分/梯度，为一个\n",
    "        gradient = calc_graident(theta, X_b, y)\n",
    "        # 储存当前的theta值\n",
    "        last_theta = theta\n",
    "        # 更新theta\n",
    "        theta = theta - learning_rate * gradient\n",
    "        if abs(loss_function(theta, X_b, y) - loss_function(last_theta, X_b, y)) < 0.00000001:\n",
    "            break \n",
    "    return theta"
   ]
  },
  {
   "cell_type": "code",
   "execution_count": 59,
   "metadata": {},
   "outputs": [
    {
     "name": "stdout",
     "output_type": "stream",
     "text": [
      "(100,)\n",
      "(100,)\n"
     ]
    }
   ],
   "source": [
    "# 创建一个数据集测试梯度下降算法\n",
    "import numpy as np\n",
    "import matplotlib.pyplot as plt\n",
    "\n",
    "plot_x = 2 * np.random.random(size = 100)\n",
    "plot_y = plot_x * 3 + 4 + np.random.normal(size = 100)\n",
    "X = plot_x.reshape(-1, 1)\n",
    "print(plot_x.shape)\n",
    "print(plot_y.shape)"
   ]
  },
  {
   "cell_type": "code",
   "execution_count": 60,
   "metadata": {},
   "outputs": [
    {
     "data": {
      "image/png": "[encoded data removed]",
      "text/plain": [
       "<Figure size 432x288 with 1 Axes>"
      ]
     },
     "metadata": {
      "needs_background": "light"
     },
     "output_type": "display_data"
    }
   ],
   "source": [
    "plt.scatter(plot_x, plot_y)\n",
    "plt.show()"
   ]
  },
  {
   "cell_type": "code",
   "execution_count": 61,
   "metadata": {},
   "outputs": [
    {
     "data": {
      "text/plain": [
       "array([4.41794276, 2.64274977])"
      ]
     },
     "execution_count": 61,
     "metadata": {},
     "output_type": "execute_result"
    }
   ],
   "source": [
    "X_b = np.hstack([np.ones((len(X), 1)), X])\n",
    "initial_theta = np.zeros(X_b.shape[1])\n",
    "gradient_descent(initial_theta, X_b, plot_y, 0.01)"
   ]
  },
  {
   "cell_type": "code",
   "execution_count": null,
   "metadata": {},
   "outputs": [],
   "source": []
  }
 ],
 "metadata": {
  "kernelspec": {
   "display_name": "Python 3",
   "language": "python",
   "name": "python3"
  },
  "language_info": {
   "codemirror_mode": {
    "name": "ipython",
    "version": 3
   },
   "file_extension": ".py",
   "mimetype": "text/x-python",
   "name": "python",
   "nbconvert_exporter": "python",
   "pygments_lexer": "ipython3",
   "version": "3.6.7"
  }
 },
 "nbformat": 4,
 "nbformat_minor": 2
}
