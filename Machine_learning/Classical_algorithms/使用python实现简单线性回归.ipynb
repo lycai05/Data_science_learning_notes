{
 "cells": [
  {
   "cell_type": "markdown",
   "metadata": {},
   "source": [
    "#### 线性回归的求解思路：\n",
    "1. 找到a和b，使得$\\sum\\limits _{i=1}^n(y_{i} - ax_{i} -b)^2$最小\n",
    "2. 其中$\\sum\\limits _{i=1}^n(y_{i} - ax_{i} -b)^2$成为损失函数（loss function），或者叫效用函数（utility function）\n",
    "\n",
    "#### 拓展到一般的参数学习算法，求解步骤可以分为以下两步：\n",
    "1. 通过学习问题，确定问题的损失函数\n",
    "2. 通过最优化损失函数，获得机器学习的模型"
   ]
  },
  {
   "cell_type": "code",
   "execution_count": null,
   "metadata": {},
   "outputs": [],
   "source": []
  },
  {
   "cell_type": "markdown",
   "metadata": {},
   "source": [
    "最小二乘法的推导："
   ]
  },
  {
   "cell_type": "markdown",
   "metadata": {},
   "source": [
    "#### 通过最小二乘法得到的a和b\n",
    "$$a = \\dfrac{\\sum\\limits_{x=1}^n(x_{i} - \\bar{x})(y_{i} - \\bar{y})}{\\sum\\limits_{x=1}^n(x_{i} - \\bar{x})^2}$$\n",
    "$$b = \\bar{y} - a\\bar{x}$$"
   ]
  },
  {
   "cell_type": "markdown",
   "metadata": {},
   "source": [
    "#### 简单线性回归是指样本特征只有一个的回归问题，下面手动实现一个简单的线性回归"
   ]
  },
  {
   "cell_type": "code",
   "execution_count": 160,
   "metadata": {},
   "outputs": [],
   "source": [
    "import numpy as np\n",
    "class SimpleLinearRegression(object):\n",
    "    def __init__(self):\n",
    "        self.a = None\n",
    "        self.b = None\n",
    "    \n",
    "    # fit就是使损失函数取最小值的步骤\n",
    "    def fit(self, x_train, y_train):\n",
    "        a = np.sum((x_train - np.mean(x_train)).dot(y_train - np.mean(y_test)))/np.sum(x_train - np.mean(x_train)**2)\n",
    "        b = np.mean(y_train) - a * np.mean(x_train)\n",
    "        self.a = a\n",
    "        self.b = b\n",
    "        return self\n",
    "\n",
    "    def predict(self, x_predict):\n",
    "        y_hat = self.a * x_predict + self.b\n",
    "        return y_hat\n",
    "    \n",
    "    def score(self, y_test, y_hat):\n",
    "        r_squared = 1 - (np.sum((y_test - y_hat)**2)) / np.sum(((y_test - np.mean(y_test))**2))\n",
    "        return r_squared"
   ]
  },
  {
   "cell_type": "code",
   "execution_count": 169,
   "metadata": {},
   "outputs": [
    {
     "name": "stdout",
     "output_type": "stream",
     "text": [
      "['age', 'sex', 'bmi', 'bp', 's1', 's2', 's3', 's4', 's5', 's6']\n"
     ]
    },
    {
     "data": {
      "image/png": "[encoded data removed]",
      "text/plain": [
       "<Figure size 432x288 with 1 Axes>"
      ]
     },
     "metadata": {
      "needs_background": "light"
     },
     "output_type": "display_data"
    }
   ],
   "source": [
    "from sklearn.datasets import load_diabetes\n",
    "import matplotlib.pyplot as plt\n",
    "diabetes = load_diabetes() \n",
    "print(diabetes.feature_names)\n",
    "# 只使用bmi这个特征\n",
    "x = diabetes.data[:,2]\n",
    "y = diabetes.target\n",
    "# 绘制散点图，观察发现bmi和diabates确实呈现线性关系\n",
    "plt.scatter(x, y, c=\"g\")\n",
    "plt.show()"
   ]
  },
  {
   "cell_type": "code",
   "execution_count": 162,
   "metadata": {},
   "outputs": [],
   "source": [
    "# 拆分训练集和测试集\n",
    "from sklearn.model_selection import train_test_split\n",
    "x_train, x_test, y_train, y_test = train_test_split(x, y, test_size = 0.25)"
   ]
  },
  {
   "cell_type": "code",
   "execution_count": 163,
   "metadata": {},
   "outputs": [
    {
     "name": "stdout",
     "output_type": "stream",
     "text": [
      "19859.022257018914 150.17189733213652\n"
     ]
    }
   ],
   "source": [
    "# 使用训练数据，求出参数a和b\n",
    "reg1 = SimpleLinearRegression()\n",
    "reg1.fit(x_train, y_train)\n",
    "print(reg1.a, reg1.b)"
   ]
  },
  {
   "cell_type": "code",
   "execution_count": 164,
   "metadata": {},
   "outputs": [
    {
     "data": {
      "image/png": "[encoded data removed]",
      "text/plain": [
       "<Figure size 432x288 with 1 Axes>"
      ]
     },
     "metadata": {
      "needs_background": "light"
     },
     "output_type": "display_data"
    }
   ],
   "source": [
    "# 绘制出模型\n",
    "plt.scatter(x_train, y_train, c=\"g\")\n",
    "plt.plot(x_train, reg1.predict(x_train), color = \"r\")\n",
    "plt.show()"
   ]
  },
  {
   "cell_type": "markdown",
   "metadata": {},
   "source": [
    "#### 衡量线性回归算法的指标函数\n",
    "**注意：衡量线性回归算法的指标函数和训练数据时使用的损失函数可以不同**  <br>\n",
    "损失函数$\\sum\\limits _{i=1}^n(y_{i} - ax_{i} -b)^2$用来衡量模型和训练集中真实值的符合程度，线性回归算法的好坏衡量测试集中模型和真实值的符合程度，主要指标主要有以下几种：\n",
    "1. 均方误差 MSE（Mean Squared Error）\n",
    "$$MSE = \\dfrac{\\sum\\limits_{i=1}^n(y_i - \\hat{y}_i)^2}{m}$$"
   ]
  },
  {
   "cell_type": "markdown",
   "metadata": {},
   "source": [
    "2. 均方根误差 RMSE（Root Mean Squared Error）\n",
    "$$RMSE = \\sqrt{MSE} = \\sqrt{\\dfrac{\\sum\\limits_{i=1}^n(y_i - \\hat{y}_i)^2}{m}}$$"
   ]
  },
  {
   "cell_type": "markdown",
   "metadata": {},
   "source": [
    "3. 平均绝对误差 MAE（Mean Absolute Error）\n",
    "$$MAE = \\dfrac{\\sum\\limits_{i=1}^n\\left|y_i - \\hat{y}_i\\right|}{m} $$"
   ]
  },
  {
   "cell_type": "markdown",
   "metadata": {},
   "source": [
    "4. R squared\n",
    "$$SS_{total} = \\sum\\limits_{i=1}^n(y_i - \\bar{y})^2$$\n",
    "$$SS_{res} = \\sum\\limits_{i=1}^n(y_i - \\hat{y})^2$$\n",
    "$$R^2 = 1 - \\dfrac{SS_{res}}{SS_{total}} = 1 - \\dfrac{MSE(\\bar{y}, y)}{Var(y)} $$\n",
    "\n",
    "R sauqred的性质：\n",
    "1. $R^2 <= 1$\n",
    "2. $R^2$越大越好，最大值为1\n",
    "3. 可以将$SS_{total}$看作基准模型，当$R^2$为0时，我们的模型等于基准模型\n",
    "4. 当$R^2<0$时，我们的模型不如基准模型，说们我们的数据不存在线性关系"
   ]
  },
  {
   "cell_type": "code",
   "execution_count": 165,
   "metadata": {},
   "outputs": [
    {
     "data": {
      "text/plain": [
       "-153.2158616569824"
      ]
     },
     "execution_count": 165,
     "metadata": {},
     "output_type": "execute_result"
    }
   ],
   "source": [
    "# 使用测试数据，使用R^2测试模型的好坏\n",
    "y_hat = reg1.predict(x_test)\n",
    "reg1.score(y_test, y_hat)"
   ]
  },
  {
   "cell_type": "code",
   "execution_count": 166,
   "metadata": {},
   "outputs": [
    {
     "data": {
      "text/plain": [
       "-153.2158616569824"
      ]
     },
     "execution_count": 166,
     "metadata": {},
     "output_type": "execute_result"
    }
   ],
   "source": [
    "# 使用sklearn中的r2_score函数来计算R^2\n",
    "# 与自己计算得到的结果相同\n",
    "from sklearn.metrics import r2_score\n",
    "r2_score(y_test, y_hat)"
   ]
  },
  {
   "cell_type": "code",
   "execution_count": null,
   "metadata": {},
   "outputs": [],
   "source": []
  }
 ],
 "metadata": {
  "kernelspec": {
   "display_name": "Python 3",
   "language": "python",
   "name": "python3"
  },
  "language_info": {
   "codemirror_mode": {
    "name": "ipython",
    "version": 3
   },
   "file_extension": ".py",
   "mimetype": "text/x-python",
   "name": "python",
   "nbconvert_exporter": "python",
   "pygments_lexer": "ipython3",
   "version": "3.6.7"
  }
 },
 "nbformat": 4,
 "nbformat_minor": 2
}
