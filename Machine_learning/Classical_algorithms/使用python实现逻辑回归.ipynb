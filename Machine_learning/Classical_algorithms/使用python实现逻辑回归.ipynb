{
 "cells": [
  {
   "cell_type": "markdown",
   "metadata": {},
   "source": [
    "#### Odds：\n",
    "$$\n",
    "p/q = p/(1-p)\n",
    "$$"
   ]
  },
  {
   "cell_type": "markdown",
   "metadata": {},
   "source": [
    "#### Log-odds:\n",
    "$$\n",
    "Log{\\frac{p}{1-p}}\n",
    "$$"
   ]
  },
  {
   "cell_type": "markdown",
   "metadata": {},
   "source": [
    "#### Logistic model\n",
    "$$\n",
    "Log{\\frac{p}{1-p}} = \\sum_{i=1}^{M}\\beta_ix_i\n",
    "$$"
   ]
  },
  {
   "cell_type": "markdown",
   "metadata": {},
   "source": [
    "#### Logistical regression model\n",
    "$$\n",
    "p(x_i) = \\frac {exp{\\sum_{j=1}^{M}\\beta_jx_{ij}}}{1 + exp{\\sum_{j=1}^{M}\\beta_jx_{ij}}}\n",
    "$$"
   ]
  },
  {
   "cell_type": "code",
   "execution_count": null,
   "metadata": {},
   "outputs": [],
   "source": [
    "#### 使用最大似然函数进行参数估计\n"
   ]
  }
 ],
 "metadata": {
  "kernelspec": {
   "display_name": "Python 3",
   "language": "python",
   "name": "python3"
  },
  "language_info": {
   "codemirror_mode": {
    "name": "ipython",
    "version": 3
   },
   "file_extension": ".py",
   "mimetype": "text/x-python",
   "name": "python",
   "nbconvert_exporter": "python",
   "pygments_lexer": "ipython3",
   "version": "3.6.7"
  }
 },
 "nbformat": 4,
 "nbformat_minor": 2
}
