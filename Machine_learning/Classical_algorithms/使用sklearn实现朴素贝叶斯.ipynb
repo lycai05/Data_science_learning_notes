{
 "cells": [
  {
   "cell_type": "markdown",
   "metadata": {},
   "source": [
    "##### 朴素贝叶斯 API\n",
    "`````python\n",
    "    sklearn.naive_bayes.MultinomialNB(alpha = 1.0)\n",
    "        alpha 拉普拉斯平滑系数。0为无平滑\n",
    "`````"
   ]
  },
  {
   "cell_type": "code",
   "execution_count": 4,
   "metadata": {},
   "outputs": [],
   "source": [
    "# load datasets\n",
    "# 此数据集包含20个主题的18000个新闻组帖子\n",
    "from sklearn.datasets import fetch_20newsgroups\n",
    "newsgroups = fetch_20newsgroups()"
   ]
  },
  {
   "cell_type": "code",
   "execution_count": 9,
   "metadata": {},
   "outputs": [
    {
     "data": {
      "text/plain": [
       "\"From: lerxst@wam.umd.edu (where's my thing)\\nSubject: WHAT car is this!?\\nNntp-Posting-Host: rac3.wam.umd.edu\\nOrganization: University of Maryland, College Park\\nLines: 15\\n\\n I was wondering if anyone out there could enlighten me on this car I saw\\nthe other day. It was a 2-door sports car, looked to be from the late 60s/\\nearly 70s. It was called a Bricklin. The doors were really small. In addition,\\nthe front bumper was separate from the rest of the body. This is \\nall I know. If anyone can tellme a model name, engine specs, years\\nof production, where this car is made, history, or whatever info you\\nhave on this funky looking car, please e-mail.\\n\\nThanks,\\n- IL\\n   ---- brought to you by your neighborhood Lerxst ----\\n\\n\\n\\n\\n\""
      ]
     },
     "execution_count": 9,
     "metadata": {},
     "output_type": "execute_result"
    }
   ],
   "source": [
    "newsgroups.data[0]"
   ]
  },
  {
   "cell_type": "code",
   "execution_count": 10,
   "metadata": {},
   "outputs": [
    {
     "data": {
      "text/plain": [
       "7"
      ]
     },
     "execution_count": 10,
     "metadata": {},
     "output_type": "execute_result"
    }
   ],
   "source": [
    "newsgroups.target[0]"
   ]
  },
  {
   "cell_type": "code",
   "execution_count": 34,
   "metadata": {},
   "outputs": [
    {
     "name": "stdout",
     "output_type": "stream",
     "text": [
      "Predict category: [ 1 16 11 ... 15 15 11]\n",
      "Accuracy: 0.8183103570166137\n",
      "准确率和召回率：                           precision    recall  f1-score   support\n",
      "\n",
      "             alt.atheism       0.87      0.89      0.88       127\n",
      "           comp.graphics       0.63      0.78      0.70       133\n",
      " comp.os.ms-windows.misc       0.89      0.06      0.11       140\n",
      "comp.sys.ibm.pc.hardware       0.61      0.75      0.67       153\n",
      "   comp.sys.mac.hardware       0.87      0.77      0.82       156\n",
      "          comp.windows.x       0.66      0.89      0.76       153\n",
      "            misc.forsale       0.91      0.60      0.72       149\n",
      "               rec.autos       0.91      0.85      0.88       160\n",
      "         rec.motorcycles       0.97      0.91      0.94       155\n",
      "      rec.sport.baseball       0.96      0.97      0.96       143\n",
      "        rec.sport.hockey       0.96      0.96      0.96       142\n",
      "               sci.crypt       0.78      0.99      0.87       144\n",
      "         sci.electronics       0.75      0.84      0.79       135\n",
      "                 sci.med       0.95      0.91      0.93       152\n",
      "               sci.space       0.87      0.97      0.92       136\n",
      "  soc.religion.christian       0.67      0.97      0.79       144\n",
      "      talk.politics.guns       0.81      0.96      0.88       143\n",
      "   talk.politics.mideast       0.89      0.96      0.92       144\n",
      "      talk.politics.misc       0.90      0.84      0.87       114\n",
      "      talk.religion.misc       0.98      0.39      0.55       106\n",
      "\n",
      "               micro avg       0.82      0.82      0.82      2829\n",
      "               macro avg       0.84      0.81      0.80      2829\n",
      "            weighted avg       0.84      0.82      0.80      2829\n",
      "\n"
     ]
    }
   ],
   "source": [
    "def naivebayes(data):\n",
    "    \n",
    "    # split data into training and test data\n",
    "    from sklearn.model_selection import train_test_split\n",
    "    x_train, x_test, y_train, y_test = train_test_split(data.data, data.target, test_size = 0.25)\n",
    "    \n",
    "    from sklearn.feature_extraction.text import CountVectorizer\n",
    "    vec = CountVectorizer()\n",
    "    x_train = vec.fit_transform(x_train)\n",
    "    x_test = vec.transform(x_test)\n",
    "    \n",
    "    from sklearn.naive_bayes import MultinomialNB\n",
    "    mnb = MultinomialNB(alpha = 1)\n",
    "    mnb.fit(x_train, y_train)\n",
    "    y_predict = mnb.predict(x_test)\n",
    "    \n",
    "    print(\"Predict category:\", y_predict)\n",
    "    \n",
    "    print(\"Accuracy:\", mnb.score(x_test, y_test))\n",
    "    \n",
    "    from sklearn.metrics import classification_report\n",
    "    print(\"准确率和召回率：\", classification_report(y_test, y_predict, target_names = data.target_names))\n",
    "    \n",
    "    return None\n",
    "\n",
    "\n",
    "targetPredict = naivebayes(newsgroups)"
   ]
  },
  {
   "cell_type": "markdown",
   "metadata": {},
   "source": [
    "##### 朴素贝叶斯分类的优缺点\n",
    "- 优点：算法简单，速度快\n",
    "- 缺点：依赖先验概率"
   ]
  },
  {
   "cell_type": "code",
   "execution_count": null,
   "metadata": {},
   "outputs": [],
   "source": []
  }
 ],
 "metadata": {
  "kernelspec": {
   "display_name": "Python 3",
   "language": "python",
   "name": "python3"
  },
  "language_info": {
   "codemirror_mode": {
    "name": "ipython",
    "version": 3
   },
   "file_extension": ".py",
   "mimetype": "text/x-python",
   "name": "python",
   "nbconvert_exporter": "python",
   "pygments_lexer": "ipython3",
   "version": "3.6.2"
  }
 },
 "nbformat": 4,
 "nbformat_minor": 2
}
