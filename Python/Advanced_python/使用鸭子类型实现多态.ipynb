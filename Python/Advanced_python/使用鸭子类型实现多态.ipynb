{
 "cells": [
  {
   "cell_type": "markdown",
   "metadata": {},
   "source": [
    "#### 什么是鸭子类型（duck typing）\n",
    "1. 所谓 鸭子类型 就是：如果一只鸟走起来像鸭子、游泳起来像鸭子、叫起来也像鸭子，那么它就是鸭子。这个概念的名字来源于 James Whitcomb Riley 提出的鸭子测试。\n",
    "2. 鸭子类型是编程语言中动态类型语言中的一种设计风格，一个对象的特征不是由父类决定，而是通过对象的方法决定的。\n",
    "3. 重点：*在鸭子类型的编程形式当中，类型不是我们关心的第一要素，真正重要的在于这个对象的行为（实现的方法）。*"
   ]
  },
  {
   "cell_type": "markdown",
   "metadata": {},
   "source": [
    "#### 什么是多态\n",
    "1. 封装，继承和多态是面向对象编程的三大特性之一。\n",
    "2. 所谓多态：就是指一个类实例的相同方法在不同情形有不同表现形式。多态机制使具有不同内部结构的对象可以共享相同的外部接口。这意味着，虽然针对不同对象的具体操作不同，但通过一个公共的类，它们（那些操作）可以通过相同的方式予以调用。"
   ]
  },
  {
   "cell_type": "markdown",
   "metadata": {},
   "source": [
    "#### 重点：python里使用鸭子类型实现多态\n",
    "- python里有很多协议，协议就是一组方法，实现了这个协议规定的一组方法的对象就遵守了这个协议。\n",
    "- 协议在python中就是接口，但只有约束性，并非强制性。\n",
    "- 这样的产生的实例对象属于鸭子类型。"
   ]
  },
  {
   "cell_type": "code",
   "execution_count": 4,
   "metadata": {},
   "outputs": [
    {
     "name": "stdout",
     "output_type": "stream",
     "text": [
      "I'm an animal\n",
      "None\n",
      "I'm a dong\n",
      "None\n",
      "I'm a cat\n",
      "None\n"
     ]
    }
   ],
   "source": [
    "### 举例1\n",
    "class Animal:\n",
    "    def say(self):\n",
    "        print(\"I'm an animal\")\n",
    "        \n",
    "class Dog(Animal):\n",
    "    def say(self):\n",
    "        print(\"I'm a dong\")\n",
    "        \n",
    "class Cat(Animal):\n",
    "    def say(self):\n",
    "        print(\"I'm a cat\")\n",
    "        \n",
    "animal1 = Animal()\n",
    "dog1 = Dog()\n",
    "cat1 = Cat()\n",
    "\n",
    "print(animal1.say())\n",
    "print(dog1.say())\n",
    "print(cat1.say())\n",
    "\n",
    "# 无论传递给say方法的是什么类型的对象，只要实现了say方法，都可以正确的调用\n",
    "# 相应的方法，这就是多态"
   ]
  },
  {
   "cell_type": "markdown",
   "metadata": {},
   "source": [
    "参考：\n",
    "https://juejin.im/post/5cce423ce51d453a4a357e42"
   ]
  }
 ],
 "metadata": {
  "kernelspec": {
   "display_name": "Python 3",
   "language": "python",
   "name": "python3"
  },
  "language_info": {
   "codemirror_mode": {
    "name": "ipython",
    "version": 3
   },
   "file_extension": ".py",
   "mimetype": "text/x-python",
   "name": "python",
   "nbconvert_exporter": "python",
   "pygments_lexer": "ipython3",
   "version": "3.6.2"
  }
 },
 "nbformat": 4,
 "nbformat_minor": 2
}
