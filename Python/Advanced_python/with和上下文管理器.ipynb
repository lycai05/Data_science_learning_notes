{
 "cells": [
  {
   "cell_type": "code",
   "execution_count": null,
   "metadata": {},
   "outputs": [],
   "source": [
    "##### 上下文管理器的概念\n",
    "### 什么是上下文管理器\n",
    "# 上下文管理器顾名思义是管理上下文的,也就是负责冲锋和垫后,而让主人专心完成自己的事情。\n",
    "# 我们在编写程序的时候，通常会将一系列操作放到一个语句块中，当某一条件为真时执行该语句快。\n",
    "# 有时候，我们需要再执行一个语句块时保持某种状态，并且在离开语句块后结束这种状态。\n",
    "# 例如对文件的操作，我们在打开一个文件进行读写操作时需要保持文件处于打开状态，而等操作完成之后要将文件关闭。\n",
    "# 所以，上下文管理器的任务是：代码块执行前准备，代码块执行后收拾。\n",
    "# 上下文管理器是在Python2.5加入的功能，它能够让你的代码可读性更强并且错误更少。\n",
    "\n",
    "### 上下文管理器解决了什么问题\n",
    "# 在正常的管理各种系统资源(文件、锁定和连接)，在涉及到异常时通常是个棘手的问题。\n",
    "# 异常很可能导致控制流跳过负责释放关键资源的语句。\n",
    "# 例如打开一个文件进行操作时，如果意外情况发生（磁盘已满、特殊的终端信号让其终止等），就会抛出异常，\n",
    "# 这样可能最后的文件关闭操作就不会执行。如果这样的问题频繁出现，则可能耗尽系统资源。\n",
    "\n",
    "### with和上下文管理器\n",
    "# With语句用于执行上下文操作。\n",
    "# With语句仅能工作于支持上下文管理协议(context management protocol)的对象。也就是说只有内建了”上下文管理”的对象才能和 with 一起工作。"
   ]
  },
  {
   "cell_type": "code",
   "execution_count": null,
   "metadata": {},
   "outputs": [],
   "source": [
    "### 使用打开和写入文件这一操作来说明上下文管理器和with搭配的用法\n",
    "# 1. 基础版：直接打开写入\n",
    "def f1():\n",
    "    file = open(\"file.txt\", \"w\")\n",
    "    file.write(\"XXXX\")\n",
    "    file.close\n",
    "\n",
    "# 2. 进阶版：try/catch捕获异常\n",
    "def f2():\n",
    "    file = open(\"file.txt\", \"w\")\n",
    "    try:\n",
    "        file.write(\"XXXX\")\n",
    "    except XXX1:\n",
    "        ...\n",
    "    except XXX2:\n",
    "        ...\n",
    "    except Exception:\n",
    "        ...\n",
    "    else:\n",
    "        ...\n",
    "    finally:\n",
    "        f.close()\n",
    "\n",
    "# 3. with版：file已经内置了对上下文管理协议的支持。所以我们可以用下边的方法来操作文件\n",
    "with open(\"file.txt\", \"w\") as f:\n",
    "    f.write(\"xxxxx\")"
   ]
  },
  {
   "cell_type": "code",
   "execution_count": null,
   "metadata": {},
   "outputs": [],
   "source": [
    "### 实现一个上下文管理器\n",
    "# 要实现上下文管理器，必须实现两个方法：一个负责进入语句块的准备操作，另一个负责离开语句块的善后操作。Python类包含两个特殊的方法，分别名为：\n",
    "# __enter__ 和 __exit__。\n",
    "\n",
    "# __enter__: 该方法进入运行时上下文环境，并返回自身或另一个与运行时上下文相关的对象。返回值会赋给 as 从句后面的变量，as 从句是可选的。\n",
    "\n",
    "# __exit__: 该方法退出当前运行时上下文并返回一个布尔值，该布尔值标明了“如果 with_suit 的退出是由异常引发的，该异常是否须要被忽略”。如果 \n",
    "# __exit__() 的返回值等于 False，那么这个异常将被重新引发一次；如果 __exit__() 的返回值等于 True，那么这个异常就被无视掉，继续执行后面的代码。"
   ]
  },
  {
   "cell_type": "code",
   "execution_count": null,
   "metadata": {},
   "outputs": [],
   "source": [
    "### With 语句的实际执行流程是这样的：\n",
    "\n",
    "# 1. 执行 context_exp 以获取上下文管理器\n",
    "# 2. 加载上下文管理器的 __exit__() 方法以备稍后调用\n",
    "# 3. 调用上下文管理器的 __enter__() 方法\n",
    "# 4. 如果有 as var 从句，则将 __enter__() 方法的返回值赋给 var\n",
    "# 5. 执行子代码块 with_suit\n",
    "# 6. 调用上下文管理器的 __exit__() 方法，如果 with_suit 的退出是由异常引发的，那么该异常的 type、value 和 traceback 会作为参数传给 __exit__()，否则传三个 None\n",
    "# 7. 如果 with_suit 的退出由异常引发，并且 __exit__() 的返回值等于 False，那么这个异常将被重新引发一次；如果 __exit__() 的返回值等于 True，那么这个异常就被无视掉，继续执行后面的代码"
   ]
  },
  {
   "cell_type": "code",
   "execution_count": null,
   "metadata": {},
   "outputs": [],
   "source": [
    "### 自己动手实现一个简单的上下文管理器\n",
    "Class File():\n",
    "    \n",
    "    def __init__(self, filename, mode):\n",
    "        self.filename = filename\n",
    "        self.mode = mode\n",
    "        \n",
    "    def __enter__(self):\n",
    "        f = open(self.filename, self.mode)\n",
    "        return self.f\n",
    "    \n",
    "    def __exit__(self, *args):\n",
    "        self.f.close()\n",
    "    \n",
    "with File(\"file.txt\", \"w\") as F:\n",
    "    f.write(\"xxxxx\")"
   ]
  },
  {
   "cell_type": "code",
   "execution_count": null,
   "metadata": {},
   "outputs": [],
   "source": [
    "### contextlib模块提供更易用的上下文管理器\n",
    "# Python 还提供了一个 contextmanager 的装饰器，更进一步简化了上下文管理器的实现方式。通过 yield 将函数分割成两部分，yield 之前的语句在 \n",
    "# __enter__ 方法中执行，yield 之后的语句在 __exit__ 方法中执行。紧跟在 yield 后面的值是函数的返回值。"
   ]
  },
  {
   "cell_type": "code",
   "execution_count": null,
   "metadata": {},
   "outputs": [],
   "source": [
    "from contextlib import contextmanager\n",
    "\n",
    "@contextmanager\n",
    "def f3(filname, mode):\n",
    "    file = open(filname, mode)\n",
    "    yield f\n",
    "    f.close()\n",
    "    \n",
    "with f3(filename, mode) as f:\n",
    "    f.write(\"xxxx\")"
   ]
  }
 ],
 "metadata": {
  "kernelspec": {
   "display_name": "Python 3",
   "language": "python",
   "name": "python3"
  },
  "language_info": {
   "codemirror_mode": {
    "name": "ipython",
    "version": 3
   },
   "file_extension": ".py",
   "mimetype": "text/x-python",
   "name": "python",
   "nbconvert_exporter": "python",
   "pygments_lexer": "ipython3",
   "version": "3.6.2"
  }
 },
 "nbformat": 4,
 "nbformat_minor": 2
}
