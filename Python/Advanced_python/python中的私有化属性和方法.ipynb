{
 "cells": [
  {
   "cell_type": "markdown",
   "metadata": {},
   "source": [
    "#### 在类的内部有各种变量/属性和方法 \n",
    "1. xx: 公有变量\n",
    "2. _x: 单前置下划线,私有化属性或方法，from somemodule import *禁止导入,类对象和子类可以访问\n",
    "3. __xx：双前置下划线,避免与子类中的属性命名冲突，无法在外部直接访问(名字重整所以访问不到)。\n",
    "    1. 子类不继承，子类不能访问。\n",
    "    2. 如果在子类中向__XX赋值，那么会在子类中定义的一个与父类相同名字的属性\n",
    "4. \\__xx_\\_:双前后下划线,用户名字空间的魔法对象或属性。例如:__init__ , __ 不要自己发明这样的名字\n",
    "5. xx_:单后置下划线,用于避免与Python关键词的冲突"
   ]
  },
  {
   "cell_type": "code",
   "execution_count": 8,
   "metadata": {},
   "outputs": [],
   "source": [
    "class Person(object):\n",
    "    def __init__(self, name, age, taste):\n",
    "        self.name = name\n",
    "        self._age = age \n",
    "        self.__taste = taste\n",
    "\n",
    "    def showperson(self):\n",
    "        print(self.name)\n",
    "        print(self._age)\n",
    "        print(self.__taste)\n",
    "\n",
    "    def dowork(self):\n",
    "        self._work()\n",
    "        self.__away()\n",
    "\n",
    "    def _work(self):\n",
    "        print('my _work')\n",
    "\n",
    "    def __away(self):\n",
    "        print('my __away')\n",
    "        return\n",
    "\n",
    "class Student(Person):\n",
    "    def construction(self, name, age, taste):\n",
    "        self.name = name\n",
    "        self._age = age \n",
    "        self.__taste = taste\n",
    "\n",
    "    def showstudent(self):\n",
    "        print(self.name)\n",
    "        print(self._age)\n",
    "        print(self.__taste)\n",
    "\n",
    "    @staticmethod\n",
    "    def testbug():\n",
    "        _Bug.showbug()\n",
    "\n",
    "# 模块内可以访问，当from  cur_module import *时，不导入\n",
    "class _Bug(object):\n",
    "    @staticmethod\n",
    "    def showbug():\n",
    "        print(\"showbug\")"
   ]
  },
  {
   "cell_type": "code",
   "execution_count": 9,
   "metadata": {},
   "outputs": [
    {
     "name": "stdout",
     "output_type": "stream",
     "text": [
      "Person类的所有属性：\n",
      "{'__module__': '__main__', '__init__': <function Person.__init__ at 0x1061f86a8>, 'showperson': <function Person.showperson at 0x10627eae8>, 'dowork': <function Person.dowork at 0x10627e598>, '_work': <function Person._work at 0x10627e950>, '_Person__away': <function Person.__away at 0x10627e9d8>, '__dict__': <attribute '__dict__' of 'Person' objects>, '__weakref__': <attribute '__weakref__' of 'Person' objects>, '__doc__': None}\n",
      "Student类的所有属性：\n",
      "{'__module__': '__main__', 'construction': <function Student.construction at 0x10627e268>, 'showstudent': <function Student.showstudent at 0x10627e2f0>, 'testbug': <staticmethod object at 0x106299048>, '__doc__': None}\n",
      "实例的所有属性：\n",
      "{'name': 'jack', '_age': 25, '_Person__taste': 'football'}\n",
      "my __away\n",
      "None\n",
      "football\n"
     ]
    }
   ],
   "source": [
    "# 在上例中，_age是Person的私有属性，_work是Person类的私有方法，子类可以访问_age和_work\n",
    "# __taste是Person的私有属性，__away是Person类的私有方法，子类无法访问__taste和__away\n",
    "\n",
    "# 初始化一个子类Studcent的实例\n",
    "s1 = Student('jack', 25, 'football')\n",
    "\n",
    "\n",
    "print(\"Person类的所有属性：\")\n",
    "print(Person.__dict__)\n",
    "\n",
    "print(\"Student类的所有属性：\")\n",
    "print(Student.__dict__)\n",
    "\n",
    "\n",
    "\n",
    "print(\"实例的所有属性：\")\n",
    "print(s1.__dict__)\n",
    "# 打印出的结果为：{'name': 'jack', '_age': 25, '_Person__taste': 'football'}\n",
    "# 可以看到 __XX的属性和方法均通过name mangling（名字重整(目的就是以防子类意外重写基类的方法或者属性)如：_Class__object），改了名字\n",
    "# 使用改过后的名字可以访问他们\n",
    "# 这样会报错：print(s1.__away())\n",
    "print(s1._Person__away())\n",
    "print(s1._Person__taste)\n",
    "\n",
    "#s1.showperson()\n",
    "#print('*'*20)\n",
    "#s1.showstudent()"
   ]
  },
  {
   "cell_type": "code",
   "execution_count": 7,
   "metadata": {},
   "outputs": [
    {
     "name": "stdout",
     "output_type": "stream",
     "text": [
      "rose\n",
      "30\n",
      "football\n",
      "********************\n"
     ]
    }
   ],
   "source": [
    "# 修改name, _age 和 __taste的值后再次调用showperson\n",
    "s1.construction('rose', 30, 'basketball')\n",
    "s1.showperson()\n",
    "print('*'*20)\n",
    "# name和__age的值被修改，而__taste的值子类的实例无法修改"
   ]
  },
  {
   "cell_type": "code",
   "execution_count": 8,
   "metadata": {},
   "outputs": [
    {
     "name": "stdout",
     "output_type": "stream",
     "text": [
      "rose\n",
      "30\n",
      "basketball\n",
      "********************\n"
     ]
    }
   ],
   "source": [
    "# 可以发现__taste是子类contruction函数返回的结果，\n",
    "# 子类的实例创建了一个与父类中同名的属性\n",
    "s1.showstudent()\n",
    "print('*'*20)"
   ]
  },
  {
   "cell_type": "code",
   "execution_count": 10,
   "metadata": {},
   "outputs": [
    {
     "name": "stdout",
     "output_type": "stream",
     "text": [
      "showbug\n"
     ]
    }
   ],
   "source": [
    "Student.testbug()"
   ]
  },
  {
   "cell_type": "code",
   "execution_count": null,
   "metadata": {},
   "outputs": [],
   "source": [
    "# 参考： http://igorsobreira.com/2010/09/16/difference-between-one-underline-and-two-underlines-in-python.html\n",
    "# 参考 https://stackoverflow.com/questions/8689964/why-do-some-functions-have-underscores-before-and-after-the-function-name"
   ]
  }
 ],
 "metadata": {
  "kernelspec": {
   "display_name": "Python 3",
   "language": "python",
   "name": "python3"
  },
  "language_info": {
   "codemirror_mode": {
    "name": "ipython",
    "version": 3
   },
   "file_extension": ".py",
   "mimetype": "text/x-python",
   "name": "python",
   "nbconvert_exporter": "python",
   "pygments_lexer": "ipython3",
   "version": "3.6.7"
  }
 },
 "nbformat": 4,
 "nbformat_minor": 2
}
