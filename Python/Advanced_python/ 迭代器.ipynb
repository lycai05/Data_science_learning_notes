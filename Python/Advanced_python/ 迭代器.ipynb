{
 "cells": [
  {
   "cell_type": "code",
   "execution_count": 2,
   "metadata": {},
   "outputs": [
    {
     "data": {
      "text/plain": [
       "<list_iterator at 0x10f83c4e0>"
      ]
     },
     "execution_count": 2,
     "metadata": {},
     "output_type": "execute_result"
    }
   ],
   "source": [
    "iter([1,2])"
   ]
  },
  {
   "cell_type": "code",
   "execution_count": null,
   "metadata": {},
   "outputs": [],
   "source": [
    "# 标准迭代接口 __iter__\n",
    "# list 和str 都是可迭代对象"
   ]
  },
  {
   "cell_type": "code",
   "execution_count": 6,
   "metadata": {},
   "outputs": [
    {
     "name": "stdout",
     "output_type": "stream",
     "text": [
      "北京: 低温 -5℃, 高温 5℃\n"
     ]
    }
   ],
   "source": [
    "# 实现一个迭代器对象\n",
    "import requests\n",
    "def getWeather(city):\n",
    "    r = requests.get(u'http://wthrcdn.etouch.cn/weather_mini?city=' + city)\n",
    "    data = r.json()['data']['forecast'][0]\n",
    "    return '%s: %s, %s' % (city, data['low'], data['high'])\n",
    "\n",
    "print(getWeather(u'北京'))"
   ]
  },
  {
   "cell_type": "code",
   "execution_count": 1,
   "metadata": {},
   "outputs": [
    {
     "name": "stdout",
     "output_type": "stream",
     "text": [
      "0\n",
      "1\n",
      "4\n",
      "9\n"
     ]
    }
   ],
   "source": [
    "def square():\n",
    "    for x in range(4):\n",
    "        yield x ** 2\n",
    "square_gen = square()\n",
    "for x in square_gen:\n",
    "    print(x)"
   ]
  },
  {
   "cell_type": "code",
   "execution_count": 3,
   "metadata": {},
   "outputs": [
    {
     "name": "stdout",
     "output_type": "stream",
     "text": [
      "True\n",
      "True\n",
      "4471590112\n",
      "4471590112\n",
      "True\n",
      "False\n",
      "4471475696\n",
      "4471475608\n"
     ]
    }
   ],
   "source": [
    "##### is and ==\n",
    "# is 比较的是两个对象是否指向内存中的同一个地址\n",
    "# == 比较的是两个对象是否相等\n",
    "a = \"Hi\"\n",
    "b = \"Hi\"\n",
    "print(a == b)\n",
    "print(a is b)\n",
    "print(id(a))\n",
    "print(id(b))\n",
    "\n",
    "c = \"I'm not so lonely, but I love sports\"\n",
    "d = \"I'm not so lonely, but I love sports\"\n",
    "print(c == d)\n",
    "print(c is d)\n",
    "print(id(c))\n",
    "print(id(d))\n",
    "\n",
    "# 系统在储存Hi这样较短的字符串时，会将a和b指向内存中的同一个地址，因此a is b为true\n",
    "# 但是c和d这样长的字符串，储存在内存中的不同地址中，因此a == b为true"
   ]
  },
  {
   "cell_type": "code",
   "execution_count": null,
   "metadata": {},
   "outputs": [],
   "source": []
  }
 ],
 "metadata": {
  "kernelspec": {
   "display_name": "Python 3",
   "language": "python",
   "name": "python3"
  },
  "language_info": {
   "codemirror_mode": {
    "name": "ipython",
    "version": 3
   },
   "file_extension": ".py",
   "mimetype": "text/x-python",
   "name": "python",
   "nbconvert_exporter": "python",
   "pygments_lexer": "ipython3",
   "version": "3.6.7"
  }
 },
 "nbformat": 4,
 "nbformat_minor": 2
}
