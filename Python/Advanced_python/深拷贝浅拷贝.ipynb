{
 "cells": [
  {
   "cell_type": "code",
   "execution_count": 11,
   "metadata": {},
   "outputs": [
    {
     "name": "stdout",
     "output_type": "stream",
     "text": [
      "4579306440\n",
      "4579306440\n"
     ]
    }
   ],
   "source": [
    "### 浅拷贝是对一个对象的顶层拷贝，深拷贝是对一个对象所有层次的拷贝\n",
    "\n",
    "# 浅拷贝\n",
    "# b复制的是a的地址\n",
    "a = [11, 22]\n",
    "b = a\n",
    "\n",
    "# 使用id函数获取a和b在内存中的地址\n",
    "print(id(a))\n",
    "print(id(b))\n",
    "# 两个地址是一样的"
   ]
  },
  {
   "cell_type": "code",
   "execution_count": 12,
   "metadata": {},
   "outputs": [
    {
     "name": "stdout",
     "output_type": "stream",
     "text": [
      "4578829576\n"
     ]
    }
   ],
   "source": [
    "# 深拷贝：使用deepcopy\n",
    "import copy\n",
    "c = copy.deepcopy(a)\n",
    "\n",
    "# c与a的地址不一样\n",
    "print(id(c))"
   ]
  },
  {
   "cell_type": "code",
   "execution_count": 13,
   "metadata": {},
   "outputs": [
    {
     "name": "stdout",
     "output_type": "stream",
     "text": [
      "[11, 22, 33]\n",
      "[11, 22, 33]\n",
      "[11, 22]\n"
     ]
    }
   ],
   "source": [
    "# 验证深拷贝和浅拷贝的区别\n",
    "# a加上33后，a和b指向同一个对象\n",
    "a.append(33)\n",
    "print(a)\n",
    "print(b)\n",
    "print(c)"
   ]
  },
  {
   "cell_type": "code",
   "execution_count": 23,
   "metadata": {},
   "outputs": [
    {
     "name": "stdout",
     "output_type": "stream",
     "text": [
      "a, b, c和e的地址：\n",
      "4579413448\n",
      "4579389896\n",
      "4579442056\n",
      "4579410952\n",
      "====================\n",
      "c和e中元素的地址：\n",
      "4579413448\n",
      "4579413448\n",
      "4579389896\n",
      "4579389896\n"
     ]
    }
   ],
   "source": [
    "# copy模块里的copy也能实现浅拷贝\n",
    "# 通过c的浅拷贝得到一个新的列表\n",
    "a = [11, 12]\n",
    "b = [33, 44]\n",
    "c = [a, b]\n",
    "e = copy.copy(c)\n",
    "\n",
    "print(\"a, b, c和e的地址：\")\n",
    "print(id(a))\n",
    "print(id(b))\n",
    "print(id(c))\n",
    "print(id(e))\n",
    "print(\"=\"*20)\n",
    "\n",
    "# c中的元素的地址还是指向原来的地址\n",
    "print(\"c和e中元素的地址：\")\n",
    "print(id(c[0]))\n",
    "print(id(e[0]))\n",
    "print(id(c[1]))\n",
    "print(id(e[1]))\n",
    "# c和e中第一个元素均指向a，第二个元素均指向b\n",
    "# 因此e是c的浅拷贝"
   ]
  },
  {
   "cell_type": "code",
   "execution_count": 24,
   "metadata": {},
   "outputs": [
    {
     "name": "stdout",
     "output_type": "stream",
     "text": [
      "[[11, 12, 55], [33, 44]]\n",
      "[[11, 12, 55], [33, 44]]\n"
     ]
    }
   ],
   "source": [
    "# 浅拷贝只复制最顶层的列表\n",
    "a.append(55)\n",
    "print(c)\n",
    "print(e)"
   ]
  },
  {
   "cell_type": "code",
   "execution_count": 26,
   "metadata": {},
   "outputs": [
    {
     "name": "stdout",
     "output_type": "stream",
     "text": [
      "4579442056\n",
      "4579391240\n",
      "4579413448\n",
      "4579364424\n",
      "[[11, 12, 55, 55], [33, 44], 88]\n",
      "[[11, 12, 55], [33, 44], 88]\n"
     ]
    }
   ],
   "source": [
    "# 深拷贝后，列表内部元素也全都重新拷贝了一份\n",
    "f = copy.deepcopy(c)\n",
    "\n",
    "# c和f指向不同的地址，它们内部的元素也指向不同的地址\n",
    "print(id(c))\n",
    "print(id(f))\n",
    "print(id(c[0]))\n",
    "print(id(f[0]))\n",
    "\n",
    "# a增加元素后，f并未发生改变\n",
    "a.append(55)\n",
    "print(c)\n",
    "print(f)"
   ]
  },
  {
   "cell_type": "code",
   "execution_count": 27,
   "metadata": {},
   "outputs": [
    {
     "name": "stdout",
     "output_type": "stream",
     "text": [
      "[[11, 12, 55, 55], [33, 44], 88, 88]\n",
      "[[11, 12, 55], [33, 44], 88]\n",
      "[[11, 12, 55, 55], [33, 44]]\n",
      "4579442056\n",
      "4579391240\n",
      "4579410952\n",
      "4579413448\n",
      "4579364424\n",
      "4579410952\n",
      "4579413448\n"
     ]
    }
   ],
   "source": [
    "# 如果向c里添加元素，则不管深拷贝还是浅拷贝后的f和e都不会跟随改变\n",
    "c.append(88)\n",
    "\n",
    "# f和e列表均未改变\n",
    "print(c)\n",
    "print(f)\n",
    "print(e)\n",
    "\n",
    "# 三者的地址较之前均未改变\n",
    "print(id(c))\n",
    "print(id(f))\n",
    "print(id(e))\n",
    "\n",
    "# 三者的内部元素也指向不同地址\n",
    "print(id(c[0]))\n",
    "print(id(f[0]))\n",
    "print(id(e[0]))"
   ]
  },
  {
   "cell_type": "code",
   "execution_count": 29,
   "metadata": {},
   "outputs": [
    {
     "name": "stdout",
     "output_type": "stream",
     "text": [
      "4578609224\n",
      "4578609224\n",
      "4541355664\n",
      "4541355664\n",
      "4578609224\n"
     ]
    }
   ],
   "source": [
    "# copy.copy元组无法浅拷贝，只能指向\n",
    "t1 = (11, 22)\n",
    "t2 = copy.copy(t1)\n",
    "print(id(t1))\n",
    "print(id(t2))\n",
    "\n",
    "# 元组也无法深拷贝\n",
    "t3 = copy.copy(t1)\n",
    "print(id(t3))"
   ]
  },
  {
   "cell_type": "code",
   "execution_count": 33,
   "metadata": {},
   "outputs": [
    {
     "name": "stdout",
     "output_type": "stream",
     "text": [
      "4440237512\n",
      "4440237512\n",
      "4440233608\n"
     ]
    }
   ],
   "source": [
    "# 如果元组里有可变类型的数据，那么浅拷贝仍然无效，但是可以深拷贝\n",
    "t4 = [11, 22]\n",
    "t5 = [33, 44]\n",
    "t6 = (t4, t5)\n",
    "t7 = copy.copy(t6)\n",
    "t8 = copy.deepcopy(t6)\n",
    "\n",
    "print(id(t6))\n",
    "print(id(t7))\n",
    "print(id(t8))"
   ]
  }
 ],
 "metadata": {
  "kernelspec": {
   "display_name": "Python 3",
   "language": "python",
   "name": "python3"
  },
  "language_info": {
   "codemirror_mode": {
    "name": "ipython",
    "version": 3
   },
   "file_extension": ".py",
   "mimetype": "text/x-python",
   "name": "python",
   "nbconvert_exporter": "python",
   "pygments_lexer": "ipython3",
   "version": "3.6.7"
  }
 },
 "nbformat": 4,
 "nbformat_minor": 2
}
