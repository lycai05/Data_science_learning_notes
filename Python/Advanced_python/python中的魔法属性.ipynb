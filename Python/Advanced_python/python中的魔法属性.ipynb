{
 "cells": [
  {
   "cell_type": "markdown",
   "metadata": {},
   "source": [
    "#### 魔法方法和魔法属性的定义\n",
    "1. double underscore: __ method __\n",
    "2. 一般不需要显示调用\n",
    "3. 魔法方法调用时需要加括号，魔法属性调用时不需要加括号"
   ]
  },
  {
   "cell_type": "markdown",
   "metadata": {},
   "source": [
    "#### 常用的魔法属性的使用方法："
   ]
  },
  {
   "cell_type": "code",
   "execution_count": 4,
   "metadata": {},
   "outputs": [
    {
     "name": "stdout",
     "output_type": "stream",
     "text": [
      " 描述类信息 \n"
     ]
    }
   ],
   "source": [
    "# 1. __doc__\n",
    "# 表示类的描述信息\n",
    "class Foo:\n",
    "    \"\"\" 描述类信息 \"\"\"\n",
    "    def func(self):\n",
    "        pass\n",
    "\n",
    "#输出：类的描述信息\n",
    "print(Foo.__doc__)"
   ]
  },
  {
   "cell_type": "code",
   "execution_count": 2,
   "metadata": {},
   "outputs": [
    {
     "name": "stdout",
     "output_type": "stream",
     "text": [
      "__main__\n",
      "<class '__main__.Person'>\n"
     ]
    }
   ],
   "source": [
    "# 2. __module__ 和 __class__\n",
    "# __module__ 表示当前操作的对象在那个模块\n",
    "# __class__ 表示当前操作的对象的类是什么\n",
    "\n",
    "class Person(object):\n",
    "    def __init__(self):\n",
    "        self.name = 'laowang'\n",
    "\n",
    "obj = Person()\n",
    "print(obj.__module__)  # 输出 __main__ 即：当前作用域\n",
    "print(obj.__class__)  # 输出 __main__.Person 即：Person类"
   ]
  },
  {
   "cell_type": "code",
   "execution_count": 3,
   "metadata": {},
   "outputs": [
    {
     "name": "stdout",
     "output_type": "stream",
     "text": [
      "laowang\n",
      "18\n"
     ]
    }
   ],
   "source": [
    "# 3. __init__\n",
    "# 初始化方法，通过类创建对象时，自动触发执行\n",
    "class Person:\n",
    "    def __init__(self, name):\n",
    "        self.name = name\n",
    "        self.age = 18\n",
    "        \n",
    "obj = Person('laowang')  # 自动执行类中的 __init__ 方法\n",
    "print(obj.name)\n",
    "print(obj.age)"
   ]
  },
  {
   "cell_type": "code",
   "execution_count": 5,
   "metadata": {},
   "outputs": [],
   "source": [
    "# 4. __del__\n",
    "# 当对象在内存中被释放时，自动触发执行。\n",
    "# 注：此方法一般无须定义，因为Python是一门高级语言，程序员在使用时无需关心内存的分配和释放，因为此工作都是交给Python解释器来执行，所以，__del__的调用是由解释器在进行垃圾回收时自动触发执行的。\n",
    "\n",
    "class Foo:\n",
    "    def __del__(self):\n",
    "        pass"
   ]
  },
  {
   "cell_type": "code",
   "execution_count": 6,
   "metadata": {},
   "outputs": [
    {
     "name": "stdout",
     "output_type": "stream",
     "text": [
      "__call__\n"
     ]
    }
   ],
   "source": [
    "# 5. __call__\n",
    "# 对象后面加括号，触发执行。\n",
    "# 注：__init__方法的执行是由创建对象触发的，即：对象 = 类名() ；而对于 __call__ 方法的执行是由对象后加括号触发的，即：对象() 或者 类()()\n",
    "\n",
    "class Foo:\n",
    "    def __init__(self):\n",
    "        pass\n",
    "\n",
    "    def __call__(self, *args, **kwargs):\n",
    "        print('__call__')\n",
    "\n",
    "\n",
    "obj = Foo()  # 执行 __init__\n",
    "obj()  # 执行 __call__"
   ]
  },
  {
   "cell_type": "code",
   "execution_count": 4,
   "metadata": {},
   "outputs": [
    {
     "name": "stdout",
     "output_type": "stream",
     "text": [
      "{'__module__': '__main__', 'country': 'China', '__init__': <function Province.__init__ at 0x10f8ea378>, 'func': <function Province.func at 0x10f8ea2f0>, '__dict__': <attribute '__dict__' of 'Province' objects>, '__weakref__': <attribute '__weakref__' of 'Province' objects>, '__doc__': None}\n",
      "{'name': '山东', 'count': 10000}\n",
      "{'name': '山西', 'count': 20000}\n"
     ]
    }
   ],
   "source": [
    "# 6. __dict__\n",
    "# 类或对象中的所有属性\n",
    "# 类的实例属性属于对象；类中的类属性和方法等属于类，即：\n",
    "\n",
    "class Province(object):\n",
    "    country = 'China'\n",
    "\n",
    "    def __init__(self, name, count):\n",
    "        self.name = name\n",
    "        self.count = count\n",
    "\n",
    "    def func(self, *args, **kwargs):\n",
    "        print('func')\n",
    "        \n",
    "\n",
    "# 获取类的属性，即：类属性、方法、\n",
    "print(Province.__dict__)\n",
    "# 输出：{'__dict__': <attribute '__dict__' of 'Province' objects>, '__module__': '__main__', 'country': 'China', '__doc__': None, '__weakref__': <attribute '__weakref__' of 'Province' objects>, 'func': <function Province.func at 0x101897950>, '__init__': <function Province.__init__ at 0x1018978c8>}\n",
    "\n",
    "obj1 = Province('山东', 10000)\n",
    "print(obj1.__dict__)\n",
    "# 获取 对象obj1 的属性\n",
    "# 输出：{'count': 10000, 'name': '山东'}\n",
    "\n",
    "obj2 = Province('山西', 20000)\n",
    "print(obj2.__dict__)\n",
    "# 获取 对象obj1 的属性\n",
    "# 输出：{'count': 20000, 'name': '山西'}"
   ]
  },
  {
   "cell_type": "code",
   "execution_count": 8,
   "metadata": {},
   "outputs": [
    {
     "name": "stdout",
     "output_type": "stream",
     "text": [
      "laowang\n"
     ]
    }
   ],
   "source": [
    "# 7. __str__\n",
    "# 如果一个类中定义了__str__方法，那么在打印 对象 时，默认输出该方法的返回值。\n",
    "class Foo:\n",
    "    def __str__(self):\n",
    "        return 'laowang'\n",
    "\n",
    "\n",
    "obj = Foo()\n",
    "print(obj)\n",
    "# 输出：laowang"
   ]
  },
  {
   "cell_type": "code",
   "execution_count": 5,
   "metadata": {},
   "outputs": [
    {
     "name": "stdout",
     "output_type": "stream",
     "text": [
      "__getitem__ k1\n",
      "__setitem__ k2 laowang\n",
      "__delitem__ k1\n"
     ]
    }
   ],
   "source": [
    "# 8、__getitem__、__setitem__、__delitem__\n",
    "# 用于索引操作，如字典。以上分别表示获取、设置、删除数据\n",
    "# -*- coding:utf-8 -*-\n",
    "\n",
    "class Foo(object):\n",
    "\n",
    "    def __getitem__(self, key):\n",
    "        print('__getitem__', key)\n",
    "\n",
    "    def __setitem__(self, key, value):\n",
    "        print('__setitem__', key, value)\n",
    "\n",
    "    def __delitem__(self, key):\n",
    "        print('__delitem__', key)\n",
    "\n",
    "\n",
    "obj = Foo()\n",
    "\n",
    "result = obj['k1']      # 自动触发执行 __getitem__\n",
    "obj['k2'] = 'laowang'   # 自动触发执行 __setitem__\n",
    "del obj['k1']           # 自动触发执行 __delitem__"
   ]
  },
  {
   "cell_type": "code",
   "execution_count": null,
   "metadata": {},
   "outputs": [],
   "source": [
    "参考：\n",
    "https://github.com/RafeKettler/magicmethods/blob/master/magicmethods.pdf\n",
    "http://www.pianshen.com/article/1576165077/"
   ]
  }
 ],
 "metadata": {
  "kernelspec": {
   "display_name": "Python 3",
   "language": "python",
   "name": "python3"
  },
  "language_info": {
   "codemirror_mode": {
    "name": "ipython",
    "version": 3
   },
   "file_extension": ".py",
   "mimetype": "text/x-python",
   "name": "python",
   "nbconvert_exporter": "python",
   "pygments_lexer": "ipython3",
   "version": "3.6.7"
  }
 },
 "nbformat": 4,
 "nbformat_minor": 2
}
