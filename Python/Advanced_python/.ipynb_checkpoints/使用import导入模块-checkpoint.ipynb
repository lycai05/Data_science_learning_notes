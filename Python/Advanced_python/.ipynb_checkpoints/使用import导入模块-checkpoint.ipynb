{
 "cells": [
  {
   "cell_type": "code",
   "execution_count": 1,
   "metadata": {},
   "outputs": [],
   "source": [
    "###### import导入的几种方式\n",
    "# 1. import XXX\n",
    "# 2. from XXX import *\n",
    "# 3. from XXX import YYY\n",
    "\n",
    "## 导入多个模块\n",
    "# import XXX, ZZZ\n",
    "\n",
    "## 导入一个模块的多个函数\n",
    "#from XXX import yyy, mmm\n",
    "\n",
    "\n",
    "#import XXX as XX"
   ]
  },
  {
   "cell_type": "code",
   "execution_count": 1,
   "metadata": {},
   "outputs": [
    {
     "name": "stdout",
     "output_type": "stream",
     "text": [
      "['', '/Users/cail/anaconda/envs/jupyterlab/lib/python36.zip', '/Users/cail/anaconda/envs/jupyterlab/lib/python3.6', '/Users/cail/anaconda/envs/jupyterlab/lib/python3.6/lib-dynload', '/Users/cail/anaconda/envs/jupyterlab/lib/python3.6/site-packages', '/Users/cail/anaconda/envs/jupyterlab/lib/python3.6/site-packages/IPython/extensions', '/Users/cail/.ipython']\n"
     ]
    }
   ],
   "source": [
    "# import导入时的搜索路径和先后顺序\n",
    "import sys\n",
    "\n",
    "# python解释器会按照以下顺序查找要导入的模块\n",
    "print(sys.path)"
   ]
  },
  {
   "cell_type": "code",
   "execution_count": null,
   "metadata": {},
   "outputs": [],
   "source": [
    "# 添加新的搜索路径\n",
    "sys.path.append('/home/YYY/xxx')\n",
    "\n",
    "# 插入一个路径在头部，可以确保先搜索这个路径\n",
    "sys.path.insert(0, '/home/YYY/xxx')  "
   ]
  },
  {
   "cell_type": "code",
   "execution_count": null,
   "metadata": {},
   "outputs": [],
   "source": [
    "# import只导入一次，即使模块修改后也无法重新导入\n",
    "# 使用reload重新导入\n",
    "from img import reload\n",
    "reload(my_module)"
   ]
  }
 ],
 "metadata": {
  "kernelspec": {
   "display_name": "Python 3",
   "language": "python",
   "name": "python3"
  },
  "language_info": {
   "codemirror_mode": {
    "name": "ipython",
    "version": 3
   },
   "file_extension": ".py",
   "mimetype": "text/x-python",
   "name": "python",
   "nbconvert_exporter": "python",
   "pygments_lexer": "ipython3",
   "version": "3.6.2"
  }
 },
 "nbformat": 4,
 "nbformat_minor": 2
}
