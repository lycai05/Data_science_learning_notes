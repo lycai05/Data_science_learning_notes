{
 "cells": [
  {
   "cell_type": "code",
   "execution_count": 22,
   "metadata": {},
   "outputs": [
    {
     "name": "stdout",
     "output_type": "stream",
     "text": [
      "调用Grandson的__init__\n",
      "调用Son1的__init__\n",
      "调用Grandparent的__init__\n",
      "调用Son2的__init__\n",
      "调用Grandparent的__init__\n",
      "<bound method Grandson.__init__ of <__main__.Grandson object at 0x10a6c5f60>>\n"
     ]
    }
   ],
   "source": [
    "### 1.多继承的例子\n",
    "class Grandparent():\n",
    "    def __init__(self, name):\n",
    "        print(\"调用Grandparent的__init__\")\n",
    "        self.name = name\n",
    "    \n",
    "    \n",
    "class Son1(Grandparent):\n",
    "    # __init__会覆盖Grandparent中的__init__\n",
    "    def __init__(self, age, name):\n",
    "        print(\"调用Son1的__init__\")\n",
    "        self.age = age\n",
    "        Grandparent.__init__(self, name)\n",
    "        \n",
    "\n",
    "class Son2(Grandparent):\n",
    "    def __init__(self, gender, name):\n",
    "        print(\"调用Son2的__init__\")\n",
    "        self.gender = gender\n",
    "        Grandparent.__init__(self, gender)\n",
    "        \n",
    "        \n",
    "class Grandson(Son1, Son2):\n",
    "    def __init__(self, age, gender, name):\n",
    "        print(\"调用Grandson的__init__\")\n",
    "        Son1.__init__(self, age, name)\n",
    "        Son2.__init__(self, gender, name)\n",
    "        \n",
    "# 从结果中可以看到Grandparent这个类被调用了两次，这是很不划算的\n",
    "grandson1 = Grandson(12, \"male\", \"Jim\")"
   ]
  },
  {
   "cell_type": "code",
   "execution_count": 19,
   "metadata": {},
   "outputs": [
    {
     "name": "stdout",
     "output_type": "stream",
     "text": [
      "调用Grandson的__init__\n",
      "调用Son1的__init__\n",
      "调用Son2的__init__\n",
      "调用Grandparent的__init__\n",
      "(<class '__main__.Grandson'>, <class '__main__.Son1'>, <class '__main__.Son2'>, <class '__main__.Grandparent'>, <class 'object'>)\n"
     ]
    }
   ],
   "source": [
    "### 2.使用super进行多继承\n",
    "# 将所有调用父类的类名都用super()替换\n",
    "class Grandparent():\n",
    "    def __init__(self, name):\n",
    "        print(\"调用Grandparent的__init__\")\n",
    "        self.name = name\n",
    "    \n",
    "    \n",
    "class Son1(Grandparent):\n",
    "    # __init__会覆盖Grandparent中的__init__\n",
    "    def __init__(self, age, name, *agrs, **kwargs):\n",
    "        print(\"调用Son1的__init__\")\n",
    "        self.age = age\n",
    "        super().__init__(name, *agrs, **kwargs)\n",
    "        \n",
    "\n",
    "class Son2(Grandparent):\n",
    "    def __init__(self, gender, name, *agrs, **kwargs):\n",
    "        print(\"调用Son2的__init__\")\n",
    "        self.gender = gender\n",
    "        super().__init__(name, *agrs, **kwargs)\n",
    "        \n",
    "        \n",
    "class Grandson(Son1, Son2):\n",
    "    def __init__(self, age, gender, name):\n",
    "        print(\"调用Grandson的__init__\")\n",
    "        super().__init__(age, gender, name)\n",
    "\n",
    "grandson2 = Grandson(12, \"male\", \"Jim\")\n",
    "\n",
    "# 当一个子类继承自多个父类的时候，python3通过C3算法来决定继承的顺序\n",
    "# 查看MRO（Method Resolution Order）：方法解析顺序\n",
    "print(Grandson.__mro__)"
   ]
  },
  {
   "cell_type": "code",
   "execution_count": null,
   "metadata": {},
   "outputs": [],
   "source": [
    "参考资料：\n",
    "https://realpython.com/python-super/"
   ]
  }
 ],
 "metadata": {
  "kernelspec": {
   "display_name": "Python 3",
   "language": "python",
   "name": "python3"
  },
  "language_info": {
   "codemirror_mode": {
    "name": "ipython",
    "version": 3
   },
   "file_extension": ".py",
   "mimetype": "text/x-python",
   "name": "python",
   "nbconvert_exporter": "python",
   "pygments_lexer": "ipython3",
   "version": "3.6.7"
  }
 },
 "nbformat": 4,
 "nbformat_minor": 2
}
