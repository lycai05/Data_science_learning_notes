{
 "cells": [
  {
   "cell_type": "markdown",
   "metadata": {},
   "source": [
    "#### 抽象基类的定义：\n",
    "- 抽象基类就是定义各种方法而不做具体实现的类，任何继承自抽象基类的类必须实现这些方法，否则无法实例化。\n",
    "- 抽象基类本身无法实例化\n"
   ]
  },
  {
   "cell_type": "markdown",
   "metadata": {},
   "source": [
    "#### 抽象基类和鸭子类型的区别\n",
    "- 鸭子类型有协议限制，只要实现了某种协议就是鸭子类型，这是一种弱限制\n",
    "- 抽象基类定义的方法（接口）是继承的子类必须要实现的，因此是一种强限制"
   ]
  },
  {
   "cell_type": "markdown",
   "metadata": {},
   "source": [
    "#### 自定义一个抽象基类"
   ]
  },
  {
   "cell_type": "code",
   "execution_count": 12,
   "metadata": {},
   "outputs": [],
   "source": [
    "# 所有的抽象基类都必须继承ABCMeta\n",
    "from abc import ABCMeta, abstractmethod\n",
    "\n",
    "class Animal(metaclass=ABCMeta):\n",
    "    \n",
    "    # 抽象方法用@abstractmethod装饰器标记,而且定义体中通常只有文档字符串\n",
    "    @abstractmethod\n",
    "    def Say(self):\n",
    "        pass\n",
    "        \n",
    "    @abstractmethod\n",
    "    def Eat(self):\n",
    "        pass\n",
    "        "
   ]
  },
  {
   "cell_type": "code",
   "execution_count": 13,
   "metadata": {},
   "outputs": [
    {
     "ename": "TypeError",
     "evalue": "Can't instantiate abstract class Animal with abstract methods Eat, Say",
     "output_type": "error",
     "traceback": [
      "\u001b[0;31m---------------------------------------------------------------------------\u001b[0m",
      "\u001b[0;31mTypeError\u001b[0m                                 Traceback (most recent call last)",
      "\u001b[0;32m<ipython-input-13-cb761d771963>\u001b[0m in \u001b[0;36m<module>\u001b[0;34m\u001b[0m\n\u001b[1;32m      1\u001b[0m \u001b[0;31m# 实例化一个抽象基类会报错\u001b[0m\u001b[0;34m\u001b[0m\u001b[0;34m\u001b[0m\u001b[0;34m\u001b[0m\u001b[0m\n\u001b[0;32m----> 2\u001b[0;31m \u001b[0manimal1\u001b[0m \u001b[0;34m=\u001b[0m \u001b[0mAnimal\u001b[0m\u001b[0;34m(\u001b[0m\u001b[0;34m)\u001b[0m\u001b[0;34m\u001b[0m\u001b[0;34m\u001b[0m\u001b[0m\n\u001b[0m",
      "\u001b[0;31mTypeError\u001b[0m: Can't instantiate abstract class Animal with abstract methods Eat, Say"
     ]
    }
   ],
   "source": [
    "# 实例化一个抽象基类会报错:\n",
    "# TypeError: Can't instantiate abstract class Animal with abstract methods Eat, Say\n",
    "animal1 = Animal()"
   ]
  },
  {
   "cell_type": "code",
   "execution_count": 16,
   "metadata": {},
   "outputs": [],
   "source": [
    "# Dog继承抽象基类Animal，必须实现Animal里所有的抽象方法\n",
    "class Dog(Animal):\n",
    "    def Say(self):\n",
    "        print(\"Wawawa\")\n",
    "        \n",
    "    def Eat(self):\n",
    "        print(\"Meat is yummy\")"
   ]
  },
  {
   "cell_type": "code",
   "execution_count": 17,
   "metadata": {},
   "outputs": [],
   "source": [
    "dog1 = Dog()"
   ]
  },
  {
   "cell_type": "markdown",
   "metadata": {},
   "source": [
    "#### 抽象基类的使用场景\n",
    "- 一般不需要自己定义抽象基类，只需要使用Python自定义的抽象基类\n",
    "- Python中通用的抽象基类在Collections.abc模块中"
   ]
  },
  {
   "cell_type": "markdown",
   "metadata": {},
   "source": [
    "#### Collections.abc中的各种抽象基类\n",
    "1. Iterable、 Container 和 Sized\n",
    " - 各个集合应该继承这三个抽象基类， 或者至少实现兼容的协议。\n",
    " - Iterable 通过 __iter__ 方法支持迭代；\n",
    " - Container 通过__contains__ 方法支持 in 运算符；\n",
    " - Sized 通过 __len__ 方法支持len() 函数。\n",
    "2. Sequence、 Mapping 和 Set\n",
    " - 这三个是主要的不可变集合类型， 而且各自都有可变的子类。\n",
    "3. MappingView\n",
    " - 在 Python 3 中， 映射方法 .items()、 .keys() 和 .values() 返回的对象分别是 ItemsView、 KeysView 和 ValuesView 的实例。 前两个类还从 Set 类继承了丰富的接口，涉及集合的全部运算符。\n",
    "4. Callable 和 Hashable\n",
    " - 这两个抽象基类与集合没有太大的关系，只不过因为collections.abc 是标准库中定义抽象基类的第一个模块， 而它们又太重要了，因此才把它们放到 collections.abc 模块中。Callable 或 Hashable 的子类非常少见。这两个抽象基类的主要作用是为内置函数 isinstance 提供支持,以一种安全的方式判断对象能不能调用或散列。\n",
    "5. Iterator\n",
    " - 是 Iterable 的子类"
   ]
  },
  {
   "cell_type": "markdown",
   "metadata": {},
   "source": [
    "#### 参考： \n",
    "- https://zhuanlan.zhihu.com/p/53559206\n",
    "- https://python3-cookbook.readthedocs.io/zh_CN/latest/c08/p12_define_interface_or_abstract_base_class.html"
   ]
  }
 ],
 "metadata": {
  "kernelspec": {
   "display_name": "Python 3",
   "language": "python",
   "name": "python3"
  },
  "language_info": {
   "codemirror_mode": {
    "name": "ipython",
    "version": 3
   },
   "file_extension": ".py",
   "mimetype": "text/x-python",
   "name": "python",
   "nbconvert_exporter": "python",
   "pygments_lexer": "ipython3",
   "version": "3.6.7"
  }
 },
 "nbformat": 4,
 "nbformat_minor": 2
}
