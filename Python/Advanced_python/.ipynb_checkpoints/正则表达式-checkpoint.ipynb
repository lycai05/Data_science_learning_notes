{
 "cells": [
  {
   "cell_type": "code",
   "execution_count": null,
   "metadata": {},
   "outputs": [],
   "source": [
    "## python中的正则表达式是通过re模块实现的"
   ]
  },
  {
   "cell_type": "code",
   "execution_count": 14,
   "metadata": {},
   "outputs": [
    {
     "name": "stdout",
     "output_type": "stream",
     "text": [
      "<_sre.SRE_Match object; span=(0, 5), match='hello'>\n",
      "None\n"
     ]
    },
    {
     "data": {
      "text/plain": [
       "'hello'"
      ]
     },
     "execution_count": 14,
     "metadata": {},
     "output_type": "execute_result"
    }
   ],
   "source": [
    "import re\n",
    "\n",
    "### match函数\n",
    "# match(pattern, string)\n",
    "print(re.match(r\"hello\", \"hello world\"))\n",
    "# 有匹配，返回一个匹配对象 <_sre.SRE_Match object; span=(0, 5), match='hello'>\n",
    "\n",
    "print(re.match(r\"bingo\", \"hello world\"))\n",
    "# 无匹配，返回None\n",
    "\n",
    "# 使用group获取匹配表达式\n",
    "result = re.match(r\"hello\", \"hello world\")\n",
    "result.group()"
   ]
  },
  {
   "cell_type": "code",
   "execution_count": null,
   "metadata": {},
   "outputs": [],
   "source": [
    "##### 常用与匹配的特殊字符\n",
    "# 下面的字符可以匹配单个字符\n",
    "# 字符\t功能\n",
    "# .     匹配任意1个字符（除了\\n）\n",
    "# [ ]\t匹配[ ]中列举的字符\n",
    "# \\d\t匹配数字，即0-9\n",
    "# \\D\t匹配非数字，即不是数字\n",
    "# \\s\t匹配空白，即 空格，tab键\n",
    "# \\S\t匹配非空白\n",
    "# \\w\t匹配单词字符，即a-z、A-Z、0-9、_\n",
    "# \\W\t匹配非单词字符\n",
    "\n",
    "# 下面的字符可以匹配多个字符\n",
    "# 字符\t功能\n",
    "# *\t匹配前一个字符出现0次或者无限次，即可有可无\n",
    "# +\t匹配前一个字符出现1次或者无限次，即至少有1次\n",
    "# ?\t匹配前一个字符出现1次或者0次，即要么有1次，要么没有\n",
    "# {m}\t匹配前一个字符出现m次\n",
    "# {m,n}\t匹配前一个字符出现从m到n次\n",
    "\n",
    "# 下面的字符可以匹配分组\n",
    "# 字符\t  功能\n",
    "# |\t       匹配左右任意一个表达式\n",
    "# (ab)\t   将括号中字符作为一个分组\n",
    "# \\num\t   引用分组num匹配到的字符串\n",
    "# (?P<name>)\t分组起别名\n",
    "# (?P=name)\t引用别名为name分组匹配到的字符串"
   ]
  },
  {
   "cell_type": "code",
   "execution_count": 11,
   "metadata": {},
   "outputs": [
    {
     "data": {
      "text/plain": [
       "'<body><h1>hahaha</h1></body>'"
      ]
     },
     "execution_count": 11,
     "metadata": {},
     "output_type": "execute_result"
    }
   ],
   "source": [
    "# \\num的用法\n",
    "re.match(r\"<(\\w*)><(\\w*)>.*</\\2></\\1>\", \"<body><h1>hahaha</h1></body>\").group()"
   ]
  },
  {
   "cell_type": "code",
   "execution_count": 17,
   "metadata": {},
   "outputs": [
    {
     "ename": "AttributeError",
     "evalue": "'NoneType' object has no attribute 'group'",
     "output_type": "error",
     "traceback": [
      "\u001b[0;31m---------------------------------------------------------------------------\u001b[0m",
      "\u001b[0;31mAttributeError\u001b[0m                            Traceback (most recent call last)",
      "\u001b[0;32m<ipython-input-17-c0462ba9c061>\u001b[0m in \u001b[0;36m<module>\u001b[0;34m\u001b[0m\n\u001b[1;32m      1\u001b[0m \u001b[0;31m# (?P<name>)的用法\u001b[0m\u001b[0;34m\u001b[0m\u001b[0;34m\u001b[0m\u001b[0;34m\u001b[0m\u001b[0m\n\u001b[0;32m----> 2\u001b[0;31m \u001b[0mre\u001b[0m\u001b[0;34m.\u001b[0m\u001b[0mmatch\u001b[0m\u001b[0;34m(\u001b[0m\u001b[0;34mr\"<(?P<p1>)><(?P<p2>)>.*</(?P=p1)></(?P=p2)>\"\u001b[0m\u001b[0;34m,\u001b[0m \u001b[0;34m\"<body><h1>hahaha</h1></body>\"\u001b[0m\u001b[0;34m)\u001b[0m\u001b[0;34m.\u001b[0m\u001b[0mgroup\u001b[0m\u001b[0;34m(\u001b[0m\u001b[0;34m)\u001b[0m\u001b[0;34m\u001b[0m\u001b[0;34m\u001b[0m\u001b[0m\n\u001b[0m",
      "\u001b[0;31mAttributeError\u001b[0m: 'NoneType' object has no attribute 'group'"
     ]
    }
   ],
   "source": [
    "# (?P<name>)的用法\n",
    "re.match(r\"<(?P<p1>)><(?P<p2>)>.*</(?P=p1)></(?P=p2)>\", \"<body><h1>hahaha</h1></body>\").group()"
   ]
  },
  {
   "cell_type": "code",
   "execution_count": 18,
   "metadata": {},
   "outputs": [
    {
     "data": {
      "text/plain": [
       "'0098'"
      ]
     },
     "execution_count": 18,
     "metadata": {},
     "output_type": "execute_result"
    }
   ],
   "source": [
    "### search：返回第一个匹配的结果\n",
    "re.search(r\"\\d+\", \"ssss 0098\").group()"
   ]
  },
  {
   "cell_type": "code",
   "execution_count": 18,
   "metadata": {},
   "outputs": [
    {
     "data": {
      "text/plain": [
       "['0098', '9999']"
      ]
     },
     "execution_count": 18,
     "metadata": {},
     "output_type": "execute_result"
    }
   ],
   "source": [
    "### findall：返回所有匹配结果，返回列表\n",
    "re.findall(r\"\\d+\", \"阅读量： 0098 点赞量：9999\")"
   ]
  },
  {
   "cell_type": "code",
   "execution_count": 19,
   "metadata": {},
   "outputs": [
    {
     "data": {
      "text/plain": [
       "'阅读量： 1111 点赞量：1111'"
      ]
     },
     "execution_count": 19,
     "metadata": {},
     "output_type": "execute_result"
    }
   ],
   "source": [
    "### sub：替换所有匹配结果\n",
    "re.sub(r\"\\d+\", \"1111\", \"阅读量： 0098 点赞量：9999\")"
   ]
  },
  {
   "cell_type": "code",
   "execution_count": 21,
   "metadata": {},
   "outputs": [
    {
     "data": {
      "text/plain": [
       "'点赞量：10000'"
      ]
     },
     "execution_count": 21,
     "metadata": {},
     "output_type": "execute_result"
    }
   ],
   "source": [
    "# sub 第二个参数可以是函数\n",
    "def add(num):\n",
    "    strnum = num.group()\n",
    "    result = int(strnum) + 1\n",
    "    return str(result)\n",
    "re.sub(r\"\\d+\", add, \"点赞量：9999\")"
   ]
  },
  {
   "cell_type": "code",
   "execution_count": 27,
   "metadata": {},
   "outputs": [
    {
     "data": {
      "text/plain": [
       "['as', '|fd', '', '', '', 'sf']"
      ]
     },
     "execution_count": 27,
     "metadata": {},
     "output_type": "execute_result"
    }
   ],
   "source": [
    "# split：分隔\n",
    "re.split(\"a\", \"asda|fdsafa|afasf\")"
   ]
  }
 ],
 "metadata": {
  "kernelspec": {
   "display_name": "Python 3",
   "language": "python",
   "name": "python3"
  },
  "language_info": {
   "codemirror_mode": {
    "name": "ipython",
    "version": 3
   },
   "file_extension": ".py",
   "mimetype": "text/x-python",
   "name": "python",
   "nbconvert_exporter": "python",
   "pygments_lexer": "ipython3",
   "version": "3.6.7"
  }
 },
 "nbformat": 4,
 "nbformat_minor": 2
}
