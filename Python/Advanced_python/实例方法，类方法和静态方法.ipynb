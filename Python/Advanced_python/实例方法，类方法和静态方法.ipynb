{
 "cells": [
  {
   "cell_type": "markdown",
   "metadata": {},
   "source": [
    "#### Python中的方法包括类方法，实例方法和静态方法\n",
    "1. 实例方法：由对象调用；至少一个self参数；执行实例方法时，自动将调用该方法的对象赋值给self；\n",
    "2. 类方法：由类调用； 至少一个cls参数；执行类方法时，自动将调用该方法的类赋值给cls；\n",
    "3. 静态方法：由类调用；无默认参数"
   ]
  },
  {
   "cell_type": "code",
   "execution_count": 3,
   "metadata": {},
   "outputs": [],
   "source": [
    "\n",
    "\n",
    "class Foo(object):\n",
    "    def __init__(self, name):\n",
    "        self.name = name\n",
    "\n",
    "    \"\"\" 定义实例方法，至少有一个self参数 \"\"\"\n",
    "    def ord_func(self):\n",
    "        # print(self.name)\n",
    "        print('这是一个实例方法')\n",
    "\n",
    "    \"\"\" 定义类方法，至少有一个cls参数 \"\"\"\n",
    "    @classmethod\n",
    "    def class_func(cls):\n",
    "        cls.classname = \"Foo\"\n",
    "        print('这是一个类方法')\n",
    "\n",
    "    \"\"\" 定义静态方法 ，无默认参数\"\"\"\n",
    "    @staticmethod\n",
    "    def static_func():\n",
    "        print('这是一个静态方法')"
   ]
  },
  {
   "cell_type": "code",
   "execution_count": 7,
   "metadata": {},
   "outputs": [
    {
     "name": "stdout",
     "output_type": "stream",
     "text": [
      "这是实例的所有属性：\n",
      "{'name': 'Jim'}\n",
      "这是类的所有属性：\n",
      "{'__module__': '__main__', '__init__': <function Foo.__init__ at 0x10354dbf8>, 'ord_func': <function Foo.ord_func at 0x1034b4a60>, 'class_func': <classmethod object at 0x1035580f0>, 'static_func': <staticmethod object at 0x103558198>, '__dict__': <attribute '__dict__' of 'Foo' objects>, '__weakref__': <attribute '__weakref__' of 'Foo' objects>, '__doc__': None, 'classname': 'Foo'}\n",
      "实例调用实例方法：\n",
      "这是一个实例方法\n",
      "None\n",
      "类调用类方法：\n",
      "这是一个类方法\n",
      "None\n"
     ]
    }
   ],
   "source": [
    "# 创建一个实例\n",
    "foo1 = Foo(\"Jim\")\n",
    "\n",
    "# 实例的所有属性，包括实例方法，类方法和静态方法\n",
    "print(\"这是实例的所有属性：\")\n",
    "print(foo1.__dict__)\n",
    "\n",
    "# 类的所有属性，包括\n",
    "print(\"这是类的所有属性：\")\n",
    "print(Foo.__dict__)\n",
    "\n",
    "# 实例调用实例方法\n",
    "print(\"实例调用实例方法：\")\n",
    "print(foo1.ord_func())\n",
    "\n",
    "# 类调用类方法\n",
    "print(\"类调用类方法：\")\n",
    "#print(foo1.class_func())\n",
    "print(Foo.class_func())"
   ]
  },
  {
   "cell_type": "code",
   "execution_count": 8,
   "metadata": {},
   "outputs": [
    {
     "name": "stdout",
     "output_type": "stream",
     "text": [
      "Foo\n",
      "Foo\n",
      "Jim\n",
      "这是一个类方法\n",
      "None\n"
     ]
    }
   ],
   "source": [
    "# 实例对象可以调用类和实例对象的属性和方法\n",
    "print(Foo.classname)\n",
    "print(foo1.classname)\n",
    "print(foo1.name)\n",
    "print(foo1.class_func())"
   ]
  },
  {
   "cell_type": "code",
   "execution_count": 24,
   "metadata": {},
   "outputs": [
    {
     "ename": "AttributeError",
     "evalue": "type object 'Foo' has no attribute 'name'",
     "output_type": "error",
     "traceback": [
      "\u001b[0;31m---------------------------------------------------------------------------\u001b[0m",
      "\u001b[0;31mAttributeError\u001b[0m                            Traceback (most recent call last)",
      "\u001b[0;32m<ipython-input-24-f3088ed8b374>\u001b[0m in \u001b[0;36m<module>\u001b[0;34m\u001b[0m\n\u001b[0;32m----> 1\u001b[0;31m \u001b[0mprint\u001b[0m\u001b[0;34m(\u001b[0m\u001b[0mFoo\u001b[0m\u001b[0;34m.\u001b[0m\u001b[0mname\u001b[0m\u001b[0;34m)\u001b[0m\u001b[0;34m\u001b[0m\u001b[0;34m\u001b[0m\u001b[0m\n\u001b[0m\u001b[1;32m      2\u001b[0m \u001b[0mprint\u001b[0m\u001b[0;34m(\u001b[0m\u001b[0mFoo\u001b[0m\u001b[0;34m.\u001b[0m\u001b[0mord_func\u001b[0m\u001b[0;34m(\u001b[0m\u001b[0;34m)\u001b[0m\u001b[0;34m)\u001b[0m\u001b[0;34m\u001b[0m\u001b[0;34m\u001b[0m\u001b[0m\n",
      "\u001b[0;31mAttributeError\u001b[0m: type object 'Foo' has no attribute 'name'"
     ]
    }
   ],
   "source": [
    "# 类对象只能调用类方法和静态方法\n",
    "# 以下会报错\n",
    "print(Foo.name)\n",
    "print(Foo.ord_func())"
   ]
  },
  {
   "cell_type": "code",
   "execution_count": null,
   "metadata": {},
   "outputs": [],
   "source": []
  },
  {
   "cell_type": "code",
   "execution_count": null,
   "metadata": {},
   "outputs": [],
   "source": []
  }
 ],
 "metadata": {
  "kernelspec": {
   "display_name": "Python (jupyterlab)",
   "language": "python",
   "name": "jupyterlab"
  },
  "language_info": {
   "codemirror_mode": {
    "name": "ipython",
    "version": 3
   },
   "file_extension": ".py",
   "mimetype": "text/x-python",
   "name": "python",
   "nbconvert_exporter": "python",
   "pygments_lexer": "ipython3",
   "version": "3.6.7"
  }
 },
 "nbformat": 4,
 "nbformat_minor": 2
}
