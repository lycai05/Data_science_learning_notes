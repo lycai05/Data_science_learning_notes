{
 "cells": [
  {
   "cell_type": "code",
   "execution_count": null,
   "metadata": {},
   "outputs": [],
   "source": [
    "Quit\tthe\textension\tif\tthe\tscore\tdrops\tby\tmore\t\n",
    "than\tX"
   ]
  },
  {
   "cell_type": "code",
   "execution_count": null,
   "metadata": {},
   "outputs": [],
   "source": [
    "# extend hit from both directions without gap and record the score change\n",
    "# tau: Best alignment score so far\n",
    "# d: antidiagonal-d is the entries V[i, j] in the table where i + j = d\n",
    "def extend_hit(hit, query, seq, w, tau, d,score_decrease_cutoff, score_mx = {'match': 2, \"mismatch\": -1}, direction = \"fw\"):\n",
    "    if direction == \"fw\":\n",
    "        step = 1\n",
    "        max_pos_query = hit[0] + w\n",
    "        max_pos_seq = hit[1] + w\n",
    "        query_pos = hit[0] + w\n",
    "        seq_pos = hit[1] + w\n",
    "    elif direction == \"bw\":\n",
    "        step = -1\n",
    "        max_pos_query = hit[0] - 1\n",
    "        max_pos_seq = hit[1] - 1\n",
    "        query_pos = hit[0] - 1\n",
    "        seq_pos = hit[1] - 1\n",
    "\n",
    "    score = 0\n",
    "    max_score = 0\n",
    "    score_decrease = 0\n",
    "\n",
    "    \n",
    "    # if score decrease less than cutoff, keep extending the hit from both directions\n",
    "    while score_decrease <= score_decrease_cutoff:\n",
    "        if query[query_pos] == seq[seq_pos]:\n",
    "            score = score + score_mx['match']\n",
    "        else:\n",
    "            score = score + score_mx['mismatch']\n",
    "        \n",
    "        if score > max_score:\n",
    "            max_score = score\n",
    "            max_pos_query = query_pos\n",
    "            max_pos_seq = seq_pos\n",
    "        \n",
    "        score_decrease = max_score - score\n",
    "        query_pos = query_pos + step\n",
    "        seq_pos  = seq_pos + step\n",
    "        #print(score)\n",
    "        \n",
    "    return (max_score, max_pos_query, max_pos_seq)"
   ]
  },
  {
   "cell_type": "code",
   "execution_count": null,
   "metadata": {},
   "outputs": [],
   "source": [
    "# start from the middle of the tuple-w, extend from both directios\n",
    "# start from antidiagonal-0 = 0, tau= 0\n",
    "# antidiagonal-1 => v[i,j] = max(v[i-1,j-1],v[i,j-1]v[i-1,j])\n",
    "# v[i,j] > tau - 1 => consistent , otherwise not consistent\n",
    "# d = d + 1\n",
    "# for v[i,j], all v[i-1,j-1],v[i,j-1]v[i-1,j] are inconsistent, stop v[i,j]"
   ]
  }
 ],
 "metadata": {
  "kernelspec": {
   "display_name": "Python (jupyterlab)",
   "language": "python",
   "name": "jupyterlab"
  },
  "language_info": {
   "codemirror_mode": {
    "name": "ipython",
    "version": 3
   },
   "file_extension": ".py",
   "mimetype": "text/x-python",
   "name": "python",
   "nbconvert_exporter": "python",
   "pygments_lexer": "ipython3",
   "version": "3.6.7"
  }
 },
 "nbformat": 4,
 "nbformat_minor": 2
}
