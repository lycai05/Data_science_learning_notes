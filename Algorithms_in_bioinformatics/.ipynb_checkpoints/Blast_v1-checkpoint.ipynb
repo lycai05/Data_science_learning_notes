{
 "cells": [
  {
   "cell_type": "markdown",
   "metadata": {},
   "source": [
    "1. Exhaustive search algorithms\n",
    "    - The most sensitive\n",
    "    - Slow\n",
    "2. Heuristic algorithms\n",
    "    - Fast\n",
    "    - Less sensitive\n",
    "3. Filter-based algorithms"
   ]
  },
  {
   "cell_type": "code",
   "execution_count": null,
   "metadata": {},
   "outputs": [],
   "source": [
    "### Parameters used:\n",
    "# tuple length: w\n",
    "# score decrease threshold: X\n",
    "# high score segment pair (HSP) score threshold: alpha"
   ]
  },
  {
   "cell_type": "code",
   "execution_count": 1,
   "metadata": {},
   "outputs": [],
   "source": [
    "# preprocess query: create hash table of w-tuple, store the position of each w-tuple in query\n",
    "def preprocess_query(query, w):\n",
    "    tuples = {}\n",
    "    \n",
    "    for i in range(len(query) - w + 1):\n",
    "        tuple = query[i:i+w]\n",
    "        if tuple in tuples:\n",
    "            tuples[tuple].append(i)\n",
    "        else:\n",
    "            tuples[tuple] = [i]\n",
    "    \n",
    "    return tuples"
   ]
  },
  {
   "cell_type": "code",
   "execution_count": 2,
   "metadata": {},
   "outputs": [
    {
     "data": {
      "text/plain": [
       "{'GTCA': [0], 'TCAT': [1, 4], 'CATC': [2], 'ATCA': [3], 'CATG': [5]}"
      ]
     },
     "execution_count": 2,
     "metadata": {},
     "output_type": "execute_result"
    }
   ],
   "source": [
    "preprocess_query(\"GTCATCATG\", 4)"
   ]
  },
  {
   "cell_type": "code",
   "execution_count": 3,
   "metadata": {},
   "outputs": [],
   "source": [
    "# generate hits: positions of exact match of w-tuple from both query and database sequence\n",
    "def find_hits(tuples, seq, w):\n",
    "    hits = []\n",
    "    \n",
    "    for i in range(len(seq) - w + 1):\n",
    "        tuple_s = seq[i:i+w]\n",
    "        for tuple_q in tuples:\n",
    "            if tuple_s == tuple_q:\n",
    "                for j in tuples[tuple_q]:       \n",
    "                    hits.append((j,i))\n",
    "    \n",
    "    return hits"
   ]
  },
  {
   "cell_type": "code",
   "execution_count": 4,
   "metadata": {},
   "outputs": [],
   "source": [
    "hits = find_hits(preprocess_query(\"GTCATCATG\", 4), \"CCGCTCATGATGATCA\", 4)"
   ]
  },
  {
   "cell_type": "code",
   "execution_count": 31,
   "metadata": {},
   "outputs": [],
   "source": [
    "# extend hit from both directions without gap and record the score change\n",
    "def extend_hit(hit, query, seq, w, score_decrease_cutoff, score_mx = {'match': 5, \"mismatch\": -4}, direction = \"fw\"):\n",
    "    if direction == \"fw\":\n",
    "        step = 1\n",
    "        max_pos_query = hit[0] + w\n",
    "        max_pos_seq = hit[1] + w\n",
    "        query_pos = hit[0] + w\n",
    "        seq_pos = hit[1] + w\n",
    "    elif direction == \"bw\":\n",
    "        step = -1\n",
    "        max_pos_query = hit[0] - 1\n",
    "        max_pos_seq = hit[1] - 1\n",
    "        query_pos = hit[0] - 1\n",
    "        seq_pos = hit[1] - 1\n",
    "\n",
    "    score = 0\n",
    "    max_score = 0\n",
    "    score_decrease = 0\n",
    "\n",
    "    \n",
    "    # if score decrease less than cutoff, keep extending the hit from both directions\n",
    "    while score_decrease <= score_decrease_cutoff:\n",
    "        if query[query_pos] == seq[seq_pos]:\n",
    "            score = score + score_mx['match']\n",
    "        else:\n",
    "            score = score + score_mx['mismatch']\n",
    "        \n",
    "        if score > max_score:\n",
    "            max_score = score\n",
    "            max_pos_query = query_pos\n",
    "            max_pos_seq = seq_pos\n",
    "        \n",
    "        score_decrease = max_score - score\n",
    "        query_pos = query_pos + step\n",
    "        seq_pos  = seq_pos + step\n",
    "        #print(score)\n",
    "        \n",
    "    return (max_score, max_pos_query, max_pos_seq)"
   ]
  },
  {
   "cell_type": "code",
   "execution_count": 18,
   "metadata": {},
   "outputs": [
    {
     "name": "stdout",
     "output_type": "stream",
     "text": [
      "-4\n",
      "1\n",
      "6\n",
      "2\n",
      "7\n",
      "3\n",
      "-1\n",
      "-5\n",
      "-9\n",
      "-4\n",
      "1\n",
      "6\n",
      "2\n",
      "-2\n",
      "-6\n",
      "-10\n"
     ]
    },
    {
     "data": {
      "text/plain": [
       "(6, 5, 5)"
      ]
     },
     "execution_count": 18,
     "metadata": {},
     "output_type": "execute_result"
    }
   ],
   "source": [
    "q = \"GTCTCACCGTCGCACGACATCTC\"\n",
    "s = \"GCGGAACTGTCGAACAATCCTCT\"\n",
    "hits1 = find_hits(preprocess_query(q, 4), s, 4)\n",
    "extend_hit(hits1[0], q, s, 4, 13, {'match': 5, \"mismatch\": -4}, \"fw\")\n",
    "extend_hit(hits1[0], q, s, 4, 13, {'match': 5, \"mismatch\": -4}, \"bw\")"
   ]
  },
  {
   "cell_type": "code",
   "execution_count": 59,
   "metadata": {},
   "outputs": [],
   "source": [
    "# for each hit, find HSP\n",
    "def find_HSP(query, seq, w, score_decrease_cutoff = 13, score_mx = {'match': 5, \"mismatch\": -4}, HSP_score_cutoff = 30):\n",
    "    hits = find_hits(preprocess_query(query, w), seq, w)\n",
    "    HSP = []\n",
    "    \n",
    "    for hit in hits:\n",
    "        fw_extend = extend_hit(hit, query, seq, w, score_decrease_cutoff, score_mx, \"fw\")\n",
    "        bw_extend = extend_hit(hit, query, seq, w, score_decrease_cutoff, score_mx, \"bw\")\n",
    "        #print(type(fw_extend[1]))\n",
    "        #print(bw_extend[1])\n",
    "        hit_score = score_mx['match'] * w + fw_extend[0] + bw_extend[0]\n",
    "        if hit_score > HSP_score_cutoff:\n",
    "            query_hit_match = query[bw_extend[1]:fw_extend[1]]\n",
    "            seq_hit_match = seq[bw_extend[2]:fw_extend[2]]\n",
    "            HSP.append((hit_score, query_hit_match, seq_hit_match))\n",
    "        else:\n",
    "            print(\"This hit fail to reach the threshold !\")\n",
    "            \n",
    "    return HSP"
   ]
  },
  {
   "cell_type": "code",
   "execution_count": 60,
   "metadata": {},
   "outputs": [
    {
     "name": "stdout",
     "output_type": "stream",
     "text": [
      "[(33, 'ACCGTCGCACG', 'ACTGTCGAACA')]\n"
     ]
    }
   ],
   "source": [
    "HSP = find_HSP(q, s, 4, 13, {'match': 5, \"mismatch\": -4}, 10)\n",
    "print(HSP)"
   ]
  },
  {
   "cell_type": "code",
   "execution_count": null,
   "metadata": {},
   "outputs": [],
   "source": []
  }
 ],
 "metadata": {
  "kernelspec": {
   "display_name": "Python (jupyterlab)",
   "language": "python",
   "name": "jupyterlab"
  },
  "language_info": {
   "codemirror_mode": {
    "name": "ipython",
    "version": 3
   },
   "file_extension": ".py",
   "mimetype": "text/x-python",
   "name": "python",
   "nbconvert_exporter": "python",
   "pygments_lexer": "ipython3",
   "version": "3.6.7"
  }
 },
 "nbformat": 4,
 "nbformat_minor": 2
}
