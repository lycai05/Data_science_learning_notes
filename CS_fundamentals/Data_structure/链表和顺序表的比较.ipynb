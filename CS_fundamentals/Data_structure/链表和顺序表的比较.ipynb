{
 "cells": [
  {
   "cell_type": "code",
   "execution_count": null,
   "metadata": {},
   "outputs": [],
   "source": [
    "##### 从底层的储存结构上看\n",
    "1. 顺序表需要一块连续的内存空间\n",
    "2. 链表通过指针将一组零散的内存块串联起来"
   ]
  },
  {
   "cell_type": "markdown",
   "metadata": {},
   "source": [
    "![链表的内存分布](figures/链表的内存分布.png)"
   ]
  },
  {
   "cell_type": "code",
   "execution_count": null,
   "metadata": {},
   "outputs": [],
   "source": [
    "##### 从操作的复杂度上看\n",
    "操作  |  链表  | 顺序表\n",
    "访问元素  | O(n)  |  O(1)\n",
    "在头部插入/删除  | O(1) | O(n)\n",
    "在尾部插入/删除  | O(n)  |  O(1)\n",
    "在中间插入/删除  |  O(n)  |  O(n)"
   ]
  }
 ],
 "metadata": {
  "kernelspec": {
   "display_name": "Python 3",
   "language": "python",
   "name": "python3"
  },
  "language_info": {
   "codemirror_mode": {
    "name": "ipython",
    "version": 3
   },
   "file_extension": ".py",
   "mimetype": "text/x-python",
   "name": "python",
   "nbconvert_exporter": "python",
   "pygments_lexer": "ipython3",
   "version": "3.6.7"
  }
 },
 "nbformat": 4,
 "nbformat_minor": 2
}
