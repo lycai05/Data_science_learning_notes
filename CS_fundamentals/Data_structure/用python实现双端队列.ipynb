{
 "cells": [
  {
   "cell_type": "code",
   "execution_count": null,
   "metadata": {},
   "outputs": [],
   "source": [
    "# 使用python的列表来实现栈\n",
    "class DeQueue(object):\n",
    "    \n",
    "    def __init__(self, list):\n",
    "        self.list = list\n",
    "    \n",
    "    \n",
    "    # 在队头添加\n",
    "    def add_front(self, item):\n",
    "        self.list.insert(0, item)\n",
    "        \n",
    "    \n",
    "    # 在队尾添加\n",
    "    def add_rear(self, item):\n",
    "        self.list.append(item)\n",
    "    \n",
    "    \n",
    "    # 从头部删除\n",
    "    def remove_front(self):\n",
    "        return self.list.remove(self.list[0])\n",
    "    \n",
    "    \n",
    "    # 从尾部删除\n",
    "    def remove_rear(self):\n",
    "        return self.list.remove(self.list[len(self.list) - 1])\n",
    "    \n",
    "    \n",
    "#    def peek(self):\n",
    "#        print(\"The first element is: {}\".format(self.list[0]))\n",
    "    \n",
    "    \n",
    "    def is_empty(self):\n",
    "        return len(self.list) == 0\n",
    "    \n",
    "    \n",
    "    def size(self):\n",
    "        return len(self.list)"
   ]
  }
 ],
 "metadata": {
  "kernelspec": {
   "display_name": "Python 3",
   "language": "python",
   "name": "python3"
  },
  "language_info": {
   "codemirror_mode": {
    "name": "ipython",
    "version": 3
   },
   "file_extension": ".py",
   "mimetype": "text/x-python",
   "name": "python",
   "nbconvert_exporter": "python",
   "pygments_lexer": "ipython3",
   "version": "3.6.2"
  }
 },
 "nbformat": 4,
 "nbformat_minor": 2
}
