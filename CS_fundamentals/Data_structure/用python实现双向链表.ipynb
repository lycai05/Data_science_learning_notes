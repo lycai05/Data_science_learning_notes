{
 "cells": [
  {
   "cell_type": "markdown",
   "metadata": {},
   "source": [
    "![双向链表](./figures/双向链表.png)"
   ]
  },
  {
   "cell_type": "code",
   "execution_count": 11,
   "metadata": {},
   "outputs": [],
   "source": [
    "# 双向链表在判空，计算长度，遍历元素上和单链表一致\n",
    "\n",
    "class Node(object):\n",
    "    def __init__(self, elem):\n",
    "        self.elem = elem\n",
    "        self.next = None\n",
    "        self.pre = None\n",
    "        \n",
    "class DoublyLinkedList(object):\n",
    "    \n",
    "    def __init__(self, node = None):\n",
    "        self._head = node\n",
    "        \n",
    "    # 判断是否为空\n",
    "    def is_empty(self):\n",
    "        return self._head == None\n",
    "    \n",
    "    # 计算长度\n",
    "    def length(self):\n",
    "        count = 0\n",
    "        cur = self._head\n",
    "        while cur != None:\n",
    "            cur = cur.next\n",
    "            count += 1\n",
    "        return count\n",
    "        \n",
    "    # 遍历\n",
    "    def travel(self):\n",
    "        print(\"==================================================\")\n",
    "        print(\"Start travel around the DLL\")\n",
    "        if self.is_empty():\n",
    "            print(\"This is an empty DLL. Exit.\")\n",
    "        elif self.length() == 1:\n",
    "            print(\"Current element is {}. This is the only element\".format(cur = self._head))\n",
    "        else:\n",
    "            cur = self._head\n",
    "            while cur != None:\n",
    "                if cur.pre == None:\n",
    "                    pre = \"This is head element.\"\n",
    "                else:\n",
    "                    pre = \"Previous node is: {}\".format(cur.pre.elem)\n",
    "                if cur.next == None:\n",
    "                    next = \"This is the tail element\"\n",
    "                else:\n",
    "                    next = \"Next node is: {}\".format(cur.next.elem)\n",
    "                print(\"Current element is: {}. {}, {}\".format(cur.elem, pre, next))\n",
    "                cur = cur.next\n",
    "        print(\"End of travel\")\n",
    "        print(\"==================================================\") \n",
    "    \n",
    "    # 在头部添加元素\n",
    "    def prepend(self, elem):\n",
    "        node = Node(elem)\n",
    "        if self.is_empty():\n",
    "            self._head = node\n",
    "        else:\n",
    "            node.next = self._head\n",
    "            self._head.pre = node\n",
    "            self._head = node\n",
    "\n",
    "               \n",
    "    # 在尾部添加元素\n",
    "    def append(self, elem):\n",
    "        node = Node(elem)\n",
    "        if self.is_empty():\n",
    "            self._head = node\n",
    "            #print('empty')\n",
    "        else:\n",
    "            cur = self._head\n",
    "            while cur.next != None:\n",
    "                cur = cur.next\n",
    "            cur.next = node\n",
    "            node.pre = cur\n",
    "        \n",
    "        \n",
    "    # 删除元素，根据元素的内容，删除遇到的第一个\n",
    "    def delete(self, elem):\n",
    "        if self.is_empty():\n",
    "            print(\"This list is empty. Nothing to delete.\")\n",
    "        else: \n",
    "            cur = self._head\n",
    "            pre = None\n",
    "            while cur != None:\n",
    "                if cur.elem == elem:\n",
    "                    # if it's head node\n",
    "                    if cur == self._head:\n",
    "                        self._head = cur.next\n",
    "                        cur.next.pre = None\n",
    "                    # if it's tail node:\n",
    "                    elif cur.next == None:\n",
    "                        pre.next = None\n",
    "                    else:\n",
    "                        pre.next = cur.next\n",
    "                        cur.next.pre = pre\n",
    "                    break\n",
    "                else:\n",
    "                    pre = cur\n",
    "                    cur = cur.next\n",
    "    \n",
    "    # 在指定元素后插入\n",
    "    def insertAfter(self, insertElem, elem):\n",
    "        node = Node(elem)\n",
    "        if self.is_empty():\n",
    "            self._head = node\n",
    "        else: \n",
    "            cur = self._head\n",
    "            pre = None\n",
    "            while cur != None:\n",
    "                if cur.elem == insertElem:\n",
    "                    # if it's not tail node\n",
    "                    if cur.next != None:\n",
    "                        node.next = cur.next\n",
    "                        cur.next.pre = node\n",
    "                        cur.next = node\n",
    "                        node.pre = cur\n",
    "                    else:\n",
    "                        node.pre = cur\n",
    "                        cur.next = node\n",
    "                    break\n",
    "                else:\n",
    "                    pre = cur\n",
    "                    cur = cur.next\n",
    "    \n",
    "    \n",
    "    def search(self, node):\n",
    "        cur = self._head\n",
    "        while cur != None:\n",
    "            if cur.elem == node:\n",
    "                return True\n",
    "            else:\n",
    "                cur = cur.next\n",
    "        return False\n",
    "                \n",
    "        "
   ]
  },
  {
   "cell_type": "code",
   "execution_count": 12,
   "metadata": {},
   "outputs": [
    {
     "name": "stdout",
     "output_type": "stream",
     "text": [
      "==================================================\n",
      "Start travel around the DLL\n",
      "Current element is: 1. This is head element., Next node is: 2\n",
      "Current element is: 2. Previous node is: 1, Next node is: 3\n",
      "Current element is: 3. This is head element., This is the tail element\n",
      "End of travel\n",
      "==================================================\n"
     ]
    }
   ],
   "source": [
    "node1 = Node(1)\n",
    "node2 = Node(2)\n",
    "node3 = Node(3)\n",
    "node1.next = node2\n",
    "node2.pre = node1\n",
    "node2.next = node3\n",
    "\n",
    "dll = DoublyLinkedList(node1)\n",
    "dll.travel()"
   ]
  },
  {
   "cell_type": "code",
   "execution_count": 13,
   "metadata": {},
   "outputs": [
    {
     "name": "stdout",
     "output_type": "stream",
     "text": [
      "==================================================\n",
      "Start travel around the DLL\n",
      "Current element is: 4. This is head element., Next node is: 1\n",
      "Current element is: 1. Previous node is: 4, Next node is: 2\n",
      "Current element is: 2. Previous node is: 1, Next node is: 3\n",
      "Current element is: 3. This is head element., This is the tail element\n",
      "End of travel\n",
      "==================================================\n"
     ]
    }
   ],
   "source": [
    "dll.prepend(4)\n",
    "dll.travel()"
   ]
  },
  {
   "cell_type": "code",
   "execution_count": 14,
   "metadata": {},
   "outputs": [
    {
     "name": "stdout",
     "output_type": "stream",
     "text": [
      "==================================================\n",
      "Start travel around the DLL\n",
      "Current element is: 4. This is head element., Next node is: 1\n",
      "Current element is: 1. Previous node is: 4, Next node is: 2\n",
      "Current element is: 2. Previous node is: 1, Next node is: 3\n",
      "Current element is: 3. This is head element., Next node is: 5\n",
      "Current element is: 5. Previous node is: 3, This is the tail element\n",
      "End of travel\n",
      "==================================================\n"
     ]
    }
   ],
   "source": [
    "dll.append(5)\n",
    "dll.travel()"
   ]
  },
  {
   "cell_type": "code",
   "execution_count": 15,
   "metadata": {},
   "outputs": [
    {
     "name": "stdout",
     "output_type": "stream",
     "text": [
      "==================================================\n",
      "Start travel around the DLL\n",
      "Current element is: 4. This is head element., Next node is: 1\n",
      "Current element is: 1. Previous node is: 4, Next node is: 2\n",
      "Current element is: 2. Previous node is: 1, Next node is: 3\n",
      "Current element is: 3. This is head element., This is the tail element\n",
      "End of travel\n",
      "==================================================\n",
      "==================================================\n",
      "Start travel around the DLL\n",
      "Current element is: 1. This is head element., Next node is: 2\n",
      "Current element is: 2. Previous node is: 1, Next node is: 3\n",
      "Current element is: 3. This is head element., This is the tail element\n",
      "End of travel\n",
      "==================================================\n",
      "==================================================\n",
      "Start travel around the DLL\n",
      "Current element is: 1. This is head element., Next node is: 3\n",
      "Current element is: 3. Previous node is: 1, This is the tail element\n",
      "End of travel\n",
      "==================================================\n"
     ]
    }
   ],
   "source": [
    "dll.delete(5)\n",
    "dll.travel()\n",
    "dll.delete(4)\n",
    "dll.travel()\n",
    "dll.delete(2)\n",
    "dll.travel()"
   ]
  },
  {
   "cell_type": "code",
   "execution_count": 16,
   "metadata": {},
   "outputs": [
    {
     "name": "stdout",
     "output_type": "stream",
     "text": [
      "==================================================\n",
      "Start travel around the DLL\n",
      "Current element is: 1. This is head element., Next node is: 3\n",
      "Current element is: 3. Previous node is: 1, Next node is: 5\n",
      "Current element is: 5. Previous node is: 3, This is the tail element\n",
      "End of travel\n",
      "==================================================\n"
     ]
    }
   ],
   "source": [
    "dll.insertAfter(3, 5)\n",
    "dll.travel()"
   ]
  },
  {
   "cell_type": "code",
   "execution_count": 19,
   "metadata": {},
   "outputs": [
    {
     "name": "stdout",
     "output_type": "stream",
     "text": [
      "False\n",
      "True\n"
     ]
    }
   ],
   "source": [
    "print(dll.search(44))\n",
    "print(dll.search(3))"
   ]
  },
  {
   "cell_type": "code",
   "execution_count": null,
   "metadata": {},
   "outputs": [],
   "source": [
    "# 1. 双向链表支持在O(1)复杂度的基础上找到前驱节点\n",
    "# 2. 双向链表占用更多的空间"
   ]
  }
 ],
 "metadata": {
  "kernelspec": {
   "display_name": "Python 3",
   "language": "python",
   "name": "python3"
  },
  "language_info": {
   "codemirror_mode": {
    "name": "ipython",
    "version": 3
   },
   "file_extension": ".py",
   "mimetype": "text/x-python",
   "name": "python",
   "nbconvert_exporter": "python",
   "pygments_lexer": "ipython3",
   "version": "3.6.2"
  }
 },
 "nbformat": 4,
 "nbformat_minor": 2
}
