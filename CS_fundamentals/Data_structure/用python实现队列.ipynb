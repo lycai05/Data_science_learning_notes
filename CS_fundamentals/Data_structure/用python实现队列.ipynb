{
 "cells": [
  {
   "cell_type": "markdown",
   "metadata": {},
   "source": [
    "先进先出（FIFO, First in first out）"
   ]
  },
  {
   "cell_type": "code",
   "execution_count": 5,
   "metadata": {},
   "outputs": [],
   "source": [
    "# 使用python的列表来实现栈\n",
    "class Queue(object):\n",
    "    \n",
    "    def __init__(self, list):\n",
    "        self.list = list\n",
    "    \n",
    "    \n",
    "    def enqueue(self, item):\n",
    "        self.list.insert(0, item)\n",
    "    \n",
    "    \n",
    "    def dequeue(self):\n",
    "        return self.list.remove(self.list[0])\n",
    "    \n",
    "    \n",
    "    def peek(self):\n",
    "        print(\"The first element is: {}\".format(self.list[0]))\n",
    "    \n",
    "    \n",
    "    def is_empty(self):\n",
    "        return len(self.list) == 0\n",
    "    \n",
    "    \n",
    "    def size(self):\n",
    "        return len(self.list)"
   ]
  },
  {
   "cell_type": "code",
   "execution_count": 6,
   "metadata": {},
   "outputs": [
    {
     "name": "stdout",
     "output_type": "stream",
     "text": [
      "Add 88\n",
      "The first element is: 88\n",
      "Add 99\n",
      "The first element is: 99\n",
      "Pop the last element\n",
      "The first element is: 88\n"
     ]
    }
   ],
   "source": [
    "# animal list\n",
    "if __name__ == \"__main__\":    \n",
    "    queue1 = Queue(['cat', 'dog', 'rabbit'])\n",
    "    queue1.size()\n",
    "    print(\"Add 88\")\n",
    "    queue1.enqueue(88)\n",
    "    queue1.peek()\n",
    "    print(\"Add 99\")\n",
    "    queue1.enqueue(99)\n",
    "    queue1.peek()\n",
    "    print(\"Pop the last element\")\n",
    "    queue1.dequeue()\n",
    "    queue1.peek()\n",
    "    queue1.is_empty()"
   ]
  },
  {
   "cell_type": "code",
   "execution_count": null,
   "metadata": {},
   "outputs": [],
   "source": []
  }
 ],
 "metadata": {
  "kernelspec": {
   "display_name": "Python 3",
   "language": "python",
   "name": "python3"
  },
  "language_info": {
   "codemirror_mode": {
    "name": "ipython",
    "version": 3
   },
   "file_extension": ".py",
   "mimetype": "text/x-python",
   "name": "python",
   "nbconvert_exporter": "python",
   "pygments_lexer": "ipython3",
   "version": "3.6.2"
  }
 },
 "nbformat": 4,
 "nbformat_minor": 2
}
