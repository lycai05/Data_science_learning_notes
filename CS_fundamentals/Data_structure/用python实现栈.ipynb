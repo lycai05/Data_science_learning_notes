{
 "cells": [
  {
   "cell_type": "code",
   "execution_count": null,
   "metadata": {},
   "outputs": [],
   "source": [
    "后进先出（LIFO, Last in first out）"
   ]
  },
  {
   "cell_type": "code",
   "execution_count": 21,
   "metadata": {},
   "outputs": [],
   "source": [
    "# 使用python的列表来实现栈\n",
    "class Stack(object):\n",
    "    \n",
    "    def __init__(self, list):\n",
    "        self.list = list\n",
    "    \n",
    "    \n",
    "    def push(self, item):\n",
    "        self.list.append(item)\n",
    "    \n",
    "    \n",
    "    def pop(self):\n",
    "        return self.list.remove(self.list[len(self.list) - 1])\n",
    "    \n",
    "    \n",
    "    def peek(self):\n",
    "        print(\"The last element is: {}\".format(self.list[len(self.list) - 1]))\n",
    "    \n",
    "    \n",
    "    def is_empty(self):\n",
    "        return len(self.list) == 0\n",
    "    \n",
    "    \n",
    "    def size(self):\n",
    "        return len(self.list)"
   ]
  },
  {
   "cell_type": "code",
   "execution_count": 23,
   "metadata": {},
   "outputs": [
    {
     "name": "stdout",
     "output_type": "stream",
     "text": [
      "Add 88\n",
      "The last element is: 88\n",
      "Add 99\n",
      "The last element is: 99\n",
      "Pop the last element\n",
      "The last element is: 88\n"
     ]
    }
   ],
   "source": [
    "# animal list\n",
    "if __name__ == \"__main__\": \n",
    "    stack1 = Stack(['cat', 'dog', 'rabbit'])\n",
    "    stack1.size()\n",
    "    print(\"Add 88\")\n",
    "    stack1.push(88)\n",
    "    stack1.peek()\n",
    "    print(\"Add 99\")\n",
    "    stack1.push(99)\n",
    "    stack1.peek()\n",
    "    print(\"Pop the last element\")\n",
    "    stack1.pop()\n",
    "    stack1.peek()\n",
    "    stack1.is_empty()"
   ]
  },
  {
   "cell_type": "code",
   "execution_count": null,
   "metadata": {},
   "outputs": [],
   "source": []
  }
 ],
 "metadata": {
  "kernelspec": {
   "display_name": "Python 3",
   "language": "python",
   "name": "python3"
  },
  "language_info": {
   "codemirror_mode": {
    "name": "ipython",
    "version": 3
   },
   "file_extension": ".py",
   "mimetype": "text/x-python",
   "name": "python",
   "nbconvert_exporter": "python",
   "pygments_lexer": "ipython3",
   "version": "3.6.2"
  }
 },
 "nbformat": 4,
 "nbformat_minor": 2
}
