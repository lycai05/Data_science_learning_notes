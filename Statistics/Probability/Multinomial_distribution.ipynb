{
 "cells": [
  {
   "cell_type": "code",
   "execution_count": null,
   "metadata": {},
   "outputs": [],
   "source": [
    "### Multinomial distribution\n",
    "\n",
    "set.seed(666)\n",
    "multinomial <- function(n, p) {\n",
    "    y <- sapply(1:n, function(k){\n",
    "        \n",
    "        fac <- factorial(n)/(factorial(k) * factorial(n-k))\n",
    "        return(fac * (k^q) * ((n-k)^q))\n",
    "    })\n",
    "    return(y)\n",
    "}\n",
    "\n",
    "n <- 100\n",
    "p <- 0.6\n",
    "x <- seq(1, n)\n",
    "p <- plot(x, binomial(n, p))"
   ]
  }
 ],
 "metadata": {
  "kernelspec": {
   "display_name": "R",
   "language": "R",
   "name": "ir"
  },
  "language_info": {
   "codemirror_mode": "r",
   "file_extension": ".r",
   "mimetype": "text/x-r-source",
   "name": "R",
   "pygments_lexer": "r",
   "version": "3.6.0"
  }
 },
 "nbformat": 4,
 "nbformat_minor": 2
}
