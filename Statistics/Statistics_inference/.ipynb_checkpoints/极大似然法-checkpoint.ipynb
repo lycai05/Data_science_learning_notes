{
 "cells": [
  {
   "cell_type": "markdown",
   "metadata": {},
   "source": [
    "频率学派的概念\n",
    "似然函数是一种条件函数函数，它表示的是给定事件发生的情况下，参数$\\theta$的可能性"
   ]
  },
  {
   "cell_type": "markdown",
   "metadata": {},
   "source": [
    "#### 似然和极大似然\n",
    "- 参数的似然定义为在该参数下事件发生的概率。似然值越大，表示在该参数下，事件越有可能发生。似然值越小，在该参数下事件越不可能发生。\n",
    "- 极大似然：找到一个参数的估计，使得在该参数估计下，事件发生的可能性最大"
   ]
  },
  {
   "cell_type": "markdown",
   "metadata": {},
   "source": [
    "参考：\n",
    "- https://www.zhihu.com/question/54082000"
   ]
  }
 ],
 "metadata": {
  "kernelspec": {
   "display_name": "R [conda env:CHIAPETR]",
   "language": "R",
   "name": "conda-env-CHIAPETR-r"
  },
  "language_info": {
   "codemirror_mode": "r",
   "file_extension": ".r",
   "mimetype": "text/x-r-source",
   "name": "R",
   "pygments_lexer": "r",
   "version": "3.5.1"
  }
 },
 "nbformat": 4,
 "nbformat_minor": 2
}
