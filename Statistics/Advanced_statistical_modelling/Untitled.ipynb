{
 "cells": [
  {
   "cell_type": "code",
   "execution_count": null,
   "metadata": {},
   "outputs": [],
   "source": [
    "coinflips = (runif(10000) > 0.5)\n",
    "table(coinflips)"
   ]
  },
  {
   "cell_type": "code",
   "execution_count": null,
   "metadata": {},
   "outputs": [],
   "source": [
    "print(1)"
   ]
  },
  {
   "cell_type": "code",
   "execution_count": null,
   "metadata": {},
   "outputs": [],
   "source": [
    "oneFlip = function(fl, mean1 = 1, mean2 = 3, sd1 = 0.5, sd2 = 0.5) {\n",
    "  if (fl) {\n",
    "   rnorm(1, mean1, sd1)\n",
    "  } else {\n",
    "   rnorm(1, mean2, sd2)\n",
    "  }\n",
    "}\n",
    "fairmix = vapply(coinflips, oneFlip, numeric(1))\n",
    "library(\"ggplot2\")\n",
    "library(\"dplyr\")\n",
    "ggplot(tibble(value = fairmix), aes(x = value)) +\n",
    "     geom_histogram(fill = \"purple\", binwidth = 0.1)"
   ]
  },
  {
   "cell_type": "code",
   "execution_count": null,
   "metadata": {},
   "outputs": [],
   "source": []
  }
 ],
 "metadata": {
  "kernelspec": {
   "display_name": "R",
   "language": "R",
   "name": "ir"
  },
  "language_info": {
   "codemirror_mode": "r",
   "file_extension": ".r",
   "mimetype": "text/x-r-source",
   "name": "R",
   "pygments_lexer": "r",
   "version": "3.6.0"
  }
 },
 "nbformat": 4,
 "nbformat_minor": 2
}
