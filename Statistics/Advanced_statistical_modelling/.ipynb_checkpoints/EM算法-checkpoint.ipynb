{
 "cells": [
  {
   "cell_type": "markdown",
   "metadata": {},
   "source": [
    "#### EM算法的介绍\n",
    "EM（Expectation-Maximization）算法是一种迭代算法，用于含有隐变量的概率模型参数的极大似然估计。\n",
    "每次迭代分两步进行：\n",
    "1. 求期望（Expectation）\n",
    "2. 求最大值（Maximazation）"
   ]
  },
  {
   "cell_type": "code",
   "execution_count": null,
   "metadata": {},
   "outputs": [],
   "source": []
  }
 ],
 "metadata": {
  "kernelspec": {
   "display_name": "Python [conda env:tensorflow]",
   "language": "python",
   "name": "conda-env-tensorflow-py"
  },
  "language_info": {
   "codemirror_mode": {
    "name": "ipython",
    "version": 3
   },
   "file_extension": ".py",
   "mimetype": "text/x-python",
   "name": "python",
   "nbconvert_exporter": "python",
   "pygments_lexer": "ipython3",
   "version": "3.6.8"
  }
 },
 "nbformat": 4,
 "nbformat_minor": 2
}
