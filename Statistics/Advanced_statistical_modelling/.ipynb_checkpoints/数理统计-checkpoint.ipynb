{
 "cells": [
  {
   "cell_type": "markdown",
   "metadata": {},
   "source": [
    "#### 数理统计的概念\n",
    "使用概率论和数学的方法，研究怎样收集带有随机误差的数据，并在设定的统计模型之下，对这种数据进行分析（统计分析），对所研究的问题作出推断（统计推断）"
   ]
  },
  {
   "cell_type": "markdown",
   "metadata": {},
   "source": [
    "#### 数理统计与概率论的关系\n",
    "概率论是数理统计的基础，数理统计是概率论的重要应用"
   ]
  },
  {
   "cell_type": "markdown",
   "metadata": {},
   "source": [
    "#### 数理统计研究的问题\n",
    "1. 参数估计\n",
    "2. 假设检验"
   ]
  },
  {
   "cell_type": "markdown",
   "metadata": {},
   "source": [
    "#### 基本概念\n",
    "1. 总体：一个概率分布族\n",
    "    - 比如：整体分布为正态分布，称为正态总体\n",
    "    - 总体的分类：\n",
    "        - 参数总体：\n",
    "            - 比如：指数分布包含一个参数$\\lambda$称为单参数总体，正态分布包含两个参数$\\mu$和$\\delta^2$属于两参数分布族\n",
    "        - 非参数总体：总体分布不同通过若干个参数表示出来\n",
    "    \n",
    "2. 样本\n",
    "\n",
    "3. 统计量\n",
    "    - **完全**由样本决定的量\n",
    "    - 统计量只依赖于样本\n",
    "    - 看作是对样本的一种加工，把样本中所含的（某一方面）的信息集中起来\n",
    "    \n",
    "4. 常用统计量\n",
    "    1. 样本均值\n",
    "    2. 样本方差"
   ]
  },
  {
   "cell_type": "markdown",
   "metadata": {},
   "source": [
    "#### 参数估计的概念\n",
    "1. 设有一个统计总体，以$f(x, \\theta_1, ..., \\theta_k)$记为其概率密度函数（连续型总体），或其概率密度函数（离散型）。\n",
    "    - 例如对正态总体$N(\\mu, \\delta^2)$，有$\\theta_1 = \\mu, \\theta_2 = \\delta^2$，\n",
    "    - $$f(x, \\theta_1, \\theta_2) = \\frac{1}{ \\theta_2 \\sqrt{2 \\pi}} e^{(-\\frac{({x - \\theta_1})^{2}}{2 \\theta_2^{2}})}$$\n",
    "    - 对于二项分布总体$B(n, p)$，则$\\theta_1 = p$, 而\n",
    "    - $$f(x, \\theta_1) = \\begin{pmatrix} \n",
    "                        n \\\\\n",
    "                        x\n",
    "                        \\end{pmatrix}\\theta_1^x(1-\\theta_1)^{n - x}$$\n",
    "\n",
    "2. 参数估计问题的提法\n",
    "设有了从总体中抽出的样本$X_1, ..., X_n$，依据这些样本对参数$\\theta_1, ..., \\theta_k$的未知值作出估计\n",
    "\n",
    "3. 参数估计的分类\n",
    "    1. 点估计\n",
    "    2. 区间估计"
   ]
  },
  {
   "cell_type": "code",
   "execution_count": 3,
   "metadata": {},
   "outputs": [
    {
     "ename": "ERROR",
     "evalue": "Error in log2(exp): non-numeric argument to mathematical function\n",
     "execution_count": 3,
     "output_type": "error",
     "traceback": [
      "Error in log2(exp): non-numeric argument to mathematical function\nTraceback:\n"
     ]
    }
   ],
   "source": []
  },
  {
   "cell_type": "code",
   "execution_count": null,
   "metadata": {},
   "outputs": [],
   "source": []
  }
 ],
 "metadata": {
  "kernelspec": {
   "display_name": "R",
   "language": "R",
   "name": "ir"
  },
  "language_info": {
   "codemirror_mode": "r",
   "file_extension": ".r",
   "mimetype": "text/x-r-source",
   "name": "R",
   "pygments_lexer": "r",
   "version": "3.6.0"
  }
 },
 "nbformat": 4,
 "nbformat_minor": 2
}
