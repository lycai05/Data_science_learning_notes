{
 "cells": [
  {
   "cell_type": "markdown",
   "metadata": {},
   "source": [
    "#### 从Classical linear model到GLM"
   ]
  },
  {
   "cell_type": "code",
   "execution_count": null,
   "metadata": {},
   "outputs": [],
   "source": []
  },
  {
   "cell_type": "markdown",
   "metadata": {},
   "source": [
    "#### Exponential family"
   ]
  },
  {
   "cell_type": "markdown",
   "metadata": {},
   "source": [
    "$$\n",
    "f(y; \\vartheta, \\phi) = exp\\{(y\\vartheta - b(\\vartheta))/a(\\phi) + c(y, \\phi)\\}\n",
    "$$"
   ]
  },
  {
   "cell_type": "markdown",
   "metadata": {},
   "source": [
    "$\\vartheta$是canonical parameter <br>\n",
    "$\\phi$是dispersion parameter"
   ]
  },
  {
   "cell_type": "markdown",
   "metadata": {},
   "source": [
    "#### 将正态分布转变为exponential family的形式"
   ]
  },
  {
   "cell_type": "markdown",
   "metadata": {},
   "source": [
    "$$\n",
    "f(x|\\mu, \\sigma^2) = \\frac{1}{\\sqrt{2\\pi\\sigma^2}}\\exp{-\\frac{(x - \\mu)^2}{2\\sigma^2}}\n",
    "$$\n",
    "$$\n",
    "= exp\\{log\\frac{1}{\\sqrt{2\\pi\\sigma^2}} - \\frac{(x-\\mu)^2}{2\\sigma^2}\\} \\\\\n",
    "= exp\\{\\frac{x\\mu - \\frac{\\mu^2}{2}}{\\sigma^2} - (\\frac{x^2}{\\sigma^2} + log\\sqrt{2\\pi\\sigma^2})\\}\n",
    "$$"
   ]
  },
  {
   "cell_type": "markdown",
   "metadata": {},
   "source": [
    "$$\n",
    "\\vartheta = \\mu \\\\\n",
    "b(\\vartheta) = \\mu^2 / 2 \\\\\n",
    "a(\\phi) = \\sigma ^ 2 \\\\\n",
    "c(y, \\phi) = - (\\frac{x^2}{\\sigma^2} + log\\sqrt{2\\pi\\sigma^2})\n",
    "$$"
   ]
  },
  {
   "cell_type": "code",
   "execution_count": null,
   "metadata": {},
   "outputs": [],
   "source": []
  }
 ],
 "metadata": {
  "kernelspec": {
   "display_name": "Python [conda env:jupyterlab]",
   "language": "python",
   "name": "conda-env-jupyterlab-py"
  },
  "language_info": {
   "codemirror_mode": {
    "name": "ipython",
    "version": 3
   },
   "file_extension": ".py",
   "mimetype": "text/x-python",
   "name": "python",
   "nbconvert_exporter": "python",
   "pygments_lexer": "ipython3",
   "version": "3.6.7"
  }
 },
 "nbformat": 4,
 "nbformat_minor": 2
}
