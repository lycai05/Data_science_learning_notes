{
 "cells": [
  {
   "cell_type": "markdown",
   "metadata": {},
   "source": [
    "####  贝叶斯学派和频率学派的区别\n",
    "1. 频率学派认为在抽样之前我们对，未知参数$\\theta$没有任何了解，所有的信息来自样本\n",
    "2. 贝叶斯学派认为在抽样前，我们对未知参数$\\theta$有一定的了解，叫做先验知识。这种先验知识可以用$\\theta$的概率分布表示出来"
   ]
  },
  {
   "cell_type": "markdown",
   "metadata": {},
   "source": [
    "#### 贝叶斯公式\n",
    "$$\n",
    "P(\\theta|Y) = \\frac {P(Y|\\theta)P(\\theta)}{P(Y)}\n",
    "$$\n",
    "其中Y是样本信息，$P(Y)=\\int P(Y|\\theta)P(\\theta)d\\theta$ <br>\n",
    "$P(\\theta|Y)$为后验（Posterior）概率 <br>\n",
    "$P(Y|\\theta)$为likelihood <br>\n",
    "$P(\\theta)$为先验概率\n",
    "上式还可以写成：\n",
    "$$\n",
    "P(\\theta|Y) \\propto P(Y|\\theta)P(\\theta)\n",
    "$$"
   ]
  },
  {
   "cell_type": "code",
   "execution_count": null,
   "metadata": {},
   "outputs": [],
   "source": []
  },
  {
   "cell_type": "code",
   "execution_count": null,
   "metadata": {},
   "outputs": [],
   "source": []
  }
 ],
 "metadata": {
  "kernelspec": {
   "display_name": "Python [conda env:tensorflow]",
   "language": "python",
   "name": "conda-env-tensorflow-py"
  },
  "language_info": {
   "codemirror_mode": {
    "name": "ipython",
    "version": 3
   },
   "file_extension": ".py",
   "mimetype": "text/x-python",
   "name": "python",
   "nbconvert_exporter": "python",
   "pygments_lexer": "ipython3",
   "version": "3.6.8"
  }
 },
 "nbformat": 4,
 "nbformat_minor": 2
}
