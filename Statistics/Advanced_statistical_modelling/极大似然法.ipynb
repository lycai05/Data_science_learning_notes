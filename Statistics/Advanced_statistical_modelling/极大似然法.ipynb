{
 "cells": [
  {
   "cell_type": "markdown",
   "metadata": {},
   "source": [
    "#### 似然函数$L(\\theta|x)$和极大似然法(maximum likelihood estimate, MLE)\n",
    "- 似然函数L($\\theta|x$)是统计模型中关于参数$\\theta$的函数\n",
    "- 似然函数定义为在该参数$\\theta$下事件（得到的数据）x发生的概率。似然值越大，表示在该参数下，事件越有可能发生，概率密度函数f($x|\\theta$越大)。似然值越小，在该参数下事件越不可能发生。\n",
    "- 极大似然：找到一个参数$\\theta$的估计$\\hat \\theta$，使得在该参数估计下，事件发生的可能性最大"
   ]
  },
  {
   "cell_type": "markdown",
   "metadata": {},
   "source": [
    "#### 似然函数$L(\\theta|x)$和概率密度函数$f(x|\\theta)$的区别\n",
    "- 概率用于在已知一些参数的情况下，预测接下来的观测所得到的结果，而似然性则是用于在已知某些观测所得到的结果时，对有关事物的性质的参数进行估计。"
   ]
  },
  {
   "cell_type": "markdown",
   "metadata": {},
   "source": [
    "#### 极大似然法\n",
    "设有总体分布$f(X;\\theta_1,...,\\theta_k)$，$X_1,...,X_n$是从总体中抽出的样本，那么样本$X_1,...,X_n$的分布记之为：\n",
    "$$\n",
    "L(X_1,...,X_n|\\theta_1,...,\\theta_k)\n",
    "$$\n",
    "当$X_1,...,X_n$固定而把L看作是$\\theta_1,...,\\theta_k$的函数时，称L为似然函数，\n",
    "使得L取最大值的$\\hat \\theta$成为$\\theta$的最大似然估计"
   ]
  },
  {
   "cell_type": "markdown",
   "metadata": {},
   "source": [
    "#### 以正态分布为例\n",
    "正态分布有两个参数$\\mu$和$\\delta^2$，假设$X_1,...,X_n$是从总体中抽出的样本，那么似然函数为：\n",
    "$$\n",
    "L(\\mu, \\delta|X_1,...,X_n) = \\prod_{i=1}^{n} \\frac{1}{ \\delta \\sqrt{2 \\pi}} e^{(-\\frac{({x_i - \\mu})^{2}}{2 \\delta^{2}})}\n",
    "$$\n",
    "极大似然法就是求$\\hat \\mu, \\hat \\delta$，作为对$\\mu, \\delta$的估计值，使得L的值最大 <br>\n",
    "两边同时取log，得到：\n",
    "$$ \n",
    "Log(L) = log(\\sqrt {2 \\pi \\delta^2})^{-n} - \\frac{1}{2\\delta^2} \\sum_{i=1}^{n}(X_i - \\mu)^2  \\\\\n",
    "= (-\\frac{n}{2})log(2\\pi\\delta^2) - \\frac{1}{2\\delta^2} \\sum_{i=1}^{n}(X_i - \\mu)^2  \\\\\n",
    "= (-\\frac{n}{2})log(2\\pi) - \\frac{n}{2}log(\\delta^2) - \\frac{1}{2\\delta^2} \\sum_{i=1}^{n}(X_i - \\mu)^2\n",
    "$$"
   ]
  },
  {
   "cell_type": "markdown",
   "metadata": {},
   "source": [
    "#### 如何使Log(L)的值最大\n",
    "只须分别对$\\mu$和$\\delta$求偏导数，并分别求偏导数为0时$\\bar mu$和$\\bar \\delta$\n",
    "对$\\mu$求偏导数,\n",
    "$$\n",
    "\\frac{\\partial LogL}{\\partial \\mu} = \\sum_1^{n}(X_i - \\mu)^2 = 0 \\\\\n",
    "\\hat \\mu = \\bar X\n",
    "$$\n",
    "对$\\delta$求偏导数\n",
    "$$\n",
    "-\\frac{n}{2\\delta^2} + \\frac{1}{2\\delta^4} \\sum^{n}_{i=1}(X_i - \\mu)^2 = 0 \\\\\n",
    "{\\bar \\delta}^2 = \\sum^{n}_{i=1}\\frac{(X_i - \\bar X)^2}{n}\n",
    "$$"
   ]
  },
  {
   "cell_type": "markdown",
   "metadata": {},
   "source": [
    "#### 极大似然法估计的结果是一个值，而不是一个分布\n",
    "https://stats.stackexchange.com/questions/139066/parameters-vs-latent-variables <br>\n",
    "Maximum Likelihood Estimation, for instance, gives you the most likely value of your parameter. But it gives you a point, not a full distribution, because fixed things do not have distributions! (You can put a distribution on how sure you are about this value, or in what range you thing this value is, but this is is not the same as the distribution of the value itself, which only exists if the value is actually a random variable)"
   ]
  },
  {
   "cell_type": "markdown",
   "metadata": {},
   "source": [
    "参考：\n",
    "- https://www.zhihu.com/question/54082000\n",
    "- https://zh.wikipedia.org/wiki/%E6%9C%80%E5%A4%A7%E4%BC%BC%E7%84%B6%E4%BC%B0%E8%AE%A1"
   ]
  },
  {
   "cell_type": "code",
   "execution_count": null,
   "metadata": {},
   "outputs": [],
   "source": []
  }
 ],
 "metadata": {
  "kernelspec": {
   "display_name": "R",
   "language": "R",
   "name": "ir"
  },
  "language_info": {
   "codemirror_mode": "r",
   "file_extension": ".r",
   "mimetype": "text/x-r-source",
   "name": "R",
   "pygments_lexer": "r",
   "version": "3.6.0"
  }
 },
 "nbformat": 4,
 "nbformat_minor": 2
}
