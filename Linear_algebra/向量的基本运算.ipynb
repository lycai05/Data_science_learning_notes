{
 "cells": [
  {
   "cell_type": "code",
   "execution_count": 29,
   "metadata": {},
   "outputs": [],
   "source": [
    "#### 定义向量类\n",
    "class Vector:\n",
    "    def __init__(self, lst):\n",
    "        self._values = lst\n",
    "        \n",
    "    def __len__(self):\n",
    "        return len(self._values)\n",
    "    \n",
    "    def __getitem__(self, idx):\n",
    "        return self._values[idx]\n",
    "    \n",
    "    def __repr__(self):\n",
    "        return \"Vector({})\".format(\", \".join(self._values))\n",
    "        \n",
    "    def __str__(self):\n",
    "        return \"({})\".format(\", \".join([str(e) for e in self._values]))\n",
    "    \n",
    "    # 向量的数量加法\n",
    "    def __add__(self, another_v):\n",
    "        assert len(self) == len(another_v), \"Length should be the same when adding\"\n",
    "        return Vector([a + b for a, b in zip(self._values, another_v._values)])\n",
    "    \n",
    "    # 向量的数量减法\n",
    "    def __sub__(self, another_v):\n",
    "        assert len(self) == len(another_v), \\\n",
    "            \"Length should be the same when adding\"\n",
    "        return Vector([a - b for a, b in zip(self._values, another_v._values)])\n",
    "    \n",
    "    # 向量的数量乘法\n",
    "    def __mul__(self, k):\n",
    "        return Vector([e * k for e in self._values])\n",
    "    \n",
    "    # 右乘\n",
    "    def __rmul__(self, k):\n",
    "        return self * k"
   ]
  },
  {
   "cell_type": "code",
   "execution_count": 30,
   "metadata": {},
   "outputs": [
    {
     "name": "stdout",
     "output_type": "stream",
     "text": [
      "4\n",
      "a\n",
      "(1, 2, a, b)\n"
     ]
    },
    {
     "data": {
      "text/plain": [
       "Vector(1, 2, a, b)"
      ]
     },
     "execution_count": 30,
     "metadata": {},
     "output_type": "execute_result"
    }
   ],
   "source": [
    "#### 定义向量类的实例\n",
    "v1 = Vector([\"1\", \"2\", \"a\", \"b\"])\n",
    "print(len(v1))\n",
    "print(v1[2])\n",
    "print(v1)\n",
    "v1"
   ]
  },
  {
   "cell_type": "code",
   "execution_count": 32,
   "metadata": {},
   "outputs": [
    {
     "name": "stdout",
     "output_type": "stream",
     "text": [
      "(7, 9, 12, 14)\n",
      "(-5, -5, -4, -4)\n",
      "(3, 6, 12, 15)\n",
      "(3, 6, 12, 15)\n"
     ]
    }
   ],
   "source": [
    "#### 实现向量的基本运算\n",
    "v2 = Vector([1, 2, 4, 5])\n",
    "v3 = Vector([6, 7, 8, 9])\n",
    "print(v2 + v3)\n",
    "print(v2 - v3)\n",
    "print(v2 * 3)\n",
    "print(3 * v2)"
   ]
  },
  {
   "cell_type": "code",
   "execution_count": null,
   "metadata": {},
   "outputs": [],
   "source": [
    "#### 实现零向量"
   ]
  },
  {
   "cell_type": "code",
   "execution_count": null,
   "metadata": {},
   "outputs": [],
   "source": [
    "#### 单位向量"
   ]
  },
  {
   "cell_type": "code",
   "execution_count": null,
   "metadata": {},
   "outputs": [],
   "source": [
    "#### 实现点乘"
   ]
  }
 ],
 "metadata": {
  "kernelspec": {
   "display_name": "Python 3",
   "language": "python",
   "name": "python3"
  },
  "language_info": {
   "codemirror_mode": {
    "name": "ipython",
    "version": 3
   },
   "file_extension": ".py",
   "mimetype": "text/x-python",
   "name": "python",
   "nbconvert_exporter": "python",
   "pygments_lexer": "ipython3",
   "version": "3.6.7"
  }
 },
 "nbformat": 4,
 "nbformat_minor": 2
}
